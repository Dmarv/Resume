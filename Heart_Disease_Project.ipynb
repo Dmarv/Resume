{
  "nbformat": 4,
  "nbformat_minor": 0,
  "metadata": {
    "colab": {
      "provenance": [],
      "include_colab_link": true
    },
    "kernelspec": {
      "name": "python3",
      "display_name": "Python 3"
    },
    "language_info": {
      "name": "python"
    },
    "accelerator": "GPU",
    "gpuClass": "standard"
  },
  "cells": [
    {
      "cell_type": "markdown",
      "metadata": {
        "id": "view-in-github",
        "colab_type": "text"
      },
      "source": [
        "<a href=\"https://colab.research.google.com/github/Dmarv/Resume/blob/Python/Heart_Disease_Project.ipynb\" target=\"_parent\"><img src=\"https://colab.research.google.com/assets/colab-badge.svg\" alt=\"Open In Colab\"/></a>"
      ]
    },
    {
      "cell_type": "markdown",
      "source": [
        "#**CIS-5450 Project: Analysis of Key Indicators for Heart Disease**"
      ],
      "metadata": {
        "id": "R1OKa6fVtFzA"
      }
    },
    {
      "cell_type": "markdown",
      "source": [
        "#Introduction"
      ],
      "metadata": {
        "id": "vVngX-1EtZex"
      }
    },
    {
      "cell_type": "markdown",
      "source": [
        "Per the Center For Disease Control, heart disease remains the leading cause of death for adults in the US. We have witnessed (ourselves or others) diagnoses of significant health conditions without previous awareness of the potential. Thus, data pertaining to a commonly diagnosed disease both piqued our interest and provided the opportunity for us to better keep ourselves aware/informed. \n",
        "\n",
        "\n",
        "The data provided from the kaggle source contains health factors that may correlate with heart disease. This data’s 400k entries come from the Center For Disease Control’s Behavioral Risk Factor Surveillance System (BRFSS) and has already been structured and cleaned. Our aim is to determine the fewest key features that can effectively predict who has (or will have) heart disease and to create a model mapping these key features to a boolean indicating heart disease. Using the various data analysis, visualization, and modeling tools we have learned throughout the course, we intend to strengthen our understanding of Feature Extraction and Modeling while better informing ourselves about heart disease. \n",
        "\n",
        "Note: Total notebook takes approximately 15 minutes to run. The Forward Step-Wise and Support Vector Machines (SVM) models take up most of the this time to run."
      ],
      "metadata": {
        "id": "96Ff26XLOtd6"
      }
    },
    {
      "cell_type": "markdown",
      "source": [
        "# Imports\n",
        "\n",
        "\n"
      ],
      "metadata": {
        "id": "wO3oL67ghsf7"
      }
    },
    {
      "cell_type": "code",
      "execution_count": null,
      "metadata": {
        "id": "zVrhy2y-hVSj"
      },
      "outputs": [],
      "source": [
        "# General Imports\n",
        "import numpy as npy\n",
        "from numpy import nan\n",
        "import pandas as pd\n",
        "import sqlite3 as sql\n",
        "import plotly.express as px\n",
        "import matplotlib.pyplot as plt\n",
        "from matplotlib import cm\n",
        "import seaborn as sns\n",
        "import random\n",
        "\n",
        "#Linear Models\n",
        "from sklearn.linear_model import LinearRegression, LogisticRegression, Ridge, RidgeCV, Lasso, LassoCV\n",
        "import statsmodels.formula.api as smf\n",
        "import statsmodels.api as sm\n",
        "from sklearn import svm, datasets\n",
        "\n",
        "#Validation packages\n",
        "from sklearn.model_selection import ShuffleSplit\n",
        "from sklearn.model_selection import LeaveOneOut\n",
        "from sklearn.model_selection import cross_val_score\n",
        "from sklearn.model_selection import KFold\n",
        "from sklearn.model_selection import train_test_split\n",
        "\n",
        "from sklearn.metrics import explained_variance_score\n",
        "from sklearn.metrics import r2_score\n",
        "from sklearn.metrics import mean_squared_error\n",
        "from sklearn.metrics import accuracy_score\n",
        "from sklearn.metrics import confusion_matrix\n",
        "from sklearn.metrics import roc_curve\n",
        "from sklearn.metrics import roc_auc_score\n",
        "#Model tuning\n",
        "from sklearn.model_selection import GridSearchCV\n",
        "\n",
        "\n",
        "#Preprosessing\n",
        "from sklearn.decomposition import PCA\n",
        "from sklearn.preprocessing import StandardScaler\n",
        "from imblearn.under_sampling import RandomUnderSampler\n",
        "from imblearn.over_sampling import RandomOverSampler\n",
        "\n",
        "#Trees\n",
        "from sklearn import tree\n",
        "from sklearn.ensemble import BaggingRegressor\n",
        "from sklearn.ensemble import RandomForestClassifier\n",
        "from sklearn.ensemble import RandomForestRegressor\n",
        "from sklearn.ensemble import GradientBoostingRegressor\n",
        "from sklearn.ensemble import AdaBoostClassifier\n",
        "from sklearn.cluster import KMeans\n",
        "\n",
        "#Classification Stats\n",
        "import statsmodels.api as sm\n",
        "import statsmodels.formula.api as smf\n",
        "from sklearn.metrics import classification_report\n"
      ]
    },
    {
      "cell_type": "markdown",
      "source": [
        "# Kaggle Data"
      ],
      "metadata": {
        "id": "LEvszhgs24KU"
      }
    },
    {
      "cell_type": "code",
      "source": [
        "# Create the kaggle directory and read the uploaded kaggle.json file\n",
        "\n",
        "# link: https://www.kaggle.com/datasets/kamilpytlak/personal-key-indicators-of-heart-disease\n",
        "\n",
        "!mkdir ~/.kaggle\n",
        "!cp kaggle.json ~/.kaggle/\n",
        "\n",
        "# Download dataset\n",
        "!kaggle datasets download -d kamilpytlak/personal-key-indicators-of-heart-disease\n",
        "\n",
        "# Unzip folder in Colab content folder\n",
        "!unzip /content/personal-key-indicators-of-heart-disease.zip\n",
        "\n"
      ],
      "metadata": {
        "id": "IKKLKqM5h795",
        "colab": {
          "base_uri": "https://localhost:8080/"
        },
        "outputId": "6fb38e08-d663-460f-ddb5-fb6f3162b213"
      },
      "execution_count": null,
      "outputs": [
        {
          "output_type": "stream",
          "name": "stdout",
          "text": [
            "mkdir: cannot create directory ‘/root/.kaggle’: File exists\n",
            "Warning: Your Kaggle API key is readable by other users on this system! To fix this, you can run 'chmod 600 /root/.kaggle/kaggle.json'\n",
            "personal-key-indicators-of-heart-disease.zip: Skipping, found more recently modified local copy (use --force to force download)\n",
            "Archive:  /content/personal-key-indicators-of-heart-disease.zip\n",
            "replace heart_2020_cleaned.csv? [y]es, [n]o, [A]ll, [N]one, [r]ename: A\n",
            "  inflating: heart_2020_cleaned.csv  \n"
          ]
        }
      ]
    },
    {
      "cell_type": "markdown",
      "source": [
        "# Data Cleaning"
      ],
      "metadata": {
        "id": "MJ9dGh7Z28vu"
      }
    },
    {
      "cell_type": "markdown",
      "source": [
        "Since the data has already undergone some EDA prior to being uploaded to Kaggle, our EDA focuses primarily on transforming the data through techniques liek one-hot-encoding & ordinal-encoding to prepare the data to be fed into ML models."
      ],
      "metadata": {
        "id": "mahu2krcPjCu"
      }
    },
    {
      "cell_type": "code",
      "source": [
        "# Read the csv file and save it to a dataframe called \"heart_disease_df\"\n",
        "heart_disease_df = pd.read_csv('heart_2020_cleaned.csv')\n",
        "heart_disease_df_revisited = heart_disease_df.copy()\n",
        "heart_disease_df"
      ],
      "metadata": {
        "id": "Y96bAXe7jYj0",
        "colab": {
          "base_uri": "https://localhost:8080/",
          "height": 488
        },
        "outputId": "13b063ef-e447-44d6-ac4c-b10be6eed805"
      },
      "execution_count": null,
      "outputs": [
        {
          "output_type": "execute_result",
          "data": {
            "text/plain": [
              "       HeartDisease    BMI Smoking AlcoholDrinking Stroke  PhysicalHealth  \\\n",
              "0                No  16.60     Yes              No     No             3.0   \n",
              "1                No  20.34      No              No    Yes             0.0   \n",
              "2                No  26.58     Yes              No     No            20.0   \n",
              "3                No  24.21      No              No     No             0.0   \n",
              "4                No  23.71      No              No     No            28.0   \n",
              "...             ...    ...     ...             ...    ...             ...   \n",
              "319790          Yes  27.41     Yes              No     No             7.0   \n",
              "319791           No  29.84     Yes              No     No             0.0   \n",
              "319792           No  24.24      No              No     No             0.0   \n",
              "319793           No  32.81      No              No     No             0.0   \n",
              "319794           No  46.56      No              No     No             0.0   \n",
              "\n",
              "        MentalHealth DiffWalking     Sex  AgeCategory      Race Diabetic  \\\n",
              "0               30.0          No  Female        55-59     White      Yes   \n",
              "1                0.0          No  Female  80 or older     White       No   \n",
              "2               30.0          No    Male        65-69     White      Yes   \n",
              "3                0.0          No  Female        75-79     White       No   \n",
              "4                0.0         Yes  Female        40-44     White       No   \n",
              "...              ...         ...     ...          ...       ...      ...   \n",
              "319790           0.0         Yes    Male        60-64  Hispanic      Yes   \n",
              "319791           0.0          No    Male        35-39  Hispanic       No   \n",
              "319792           0.0          No  Female        45-49  Hispanic       No   \n",
              "319793           0.0          No  Female        25-29  Hispanic       No   \n",
              "319794           0.0          No  Female  80 or older  Hispanic       No   \n",
              "\n",
              "       PhysicalActivity  GenHealth  SleepTime Asthma KidneyDisease SkinCancer  \n",
              "0                   Yes  Very good        5.0    Yes            No        Yes  \n",
              "1                   Yes  Very good        7.0     No            No         No  \n",
              "2                   Yes       Fair        8.0    Yes            No         No  \n",
              "3                    No       Good        6.0     No            No        Yes  \n",
              "4                   Yes  Very good        8.0     No            No         No  \n",
              "...                 ...        ...        ...    ...           ...        ...  \n",
              "319790               No       Fair        6.0    Yes            No         No  \n",
              "319791              Yes  Very good        5.0    Yes            No         No  \n",
              "319792              Yes       Good        6.0     No            No         No  \n",
              "319793               No       Good       12.0     No            No         No  \n",
              "319794              Yes       Good        8.0     No            No         No  \n",
              "\n",
              "[319795 rows x 18 columns]"
            ],
            "text/html": [
              "\n",
              "  <div id=\"df-e5779ba6-122f-482c-9866-6fef521b5379\">\n",
              "    <div class=\"colab-df-container\">\n",
              "      <div>\n",
              "<style scoped>\n",
              "    .dataframe tbody tr th:only-of-type {\n",
              "        vertical-align: middle;\n",
              "    }\n",
              "\n",
              "    .dataframe tbody tr th {\n",
              "        vertical-align: top;\n",
              "    }\n",
              "\n",
              "    .dataframe thead th {\n",
              "        text-align: right;\n",
              "    }\n",
              "</style>\n",
              "<table border=\"1\" class=\"dataframe\">\n",
              "  <thead>\n",
              "    <tr style=\"text-align: right;\">\n",
              "      <th></th>\n",
              "      <th>HeartDisease</th>\n",
              "      <th>BMI</th>\n",
              "      <th>Smoking</th>\n",
              "      <th>AlcoholDrinking</th>\n",
              "      <th>Stroke</th>\n",
              "      <th>PhysicalHealth</th>\n",
              "      <th>MentalHealth</th>\n",
              "      <th>DiffWalking</th>\n",
              "      <th>Sex</th>\n",
              "      <th>AgeCategory</th>\n",
              "      <th>Race</th>\n",
              "      <th>Diabetic</th>\n",
              "      <th>PhysicalActivity</th>\n",
              "      <th>GenHealth</th>\n",
              "      <th>SleepTime</th>\n",
              "      <th>Asthma</th>\n",
              "      <th>KidneyDisease</th>\n",
              "      <th>SkinCancer</th>\n",
              "    </tr>\n",
              "  </thead>\n",
              "  <tbody>\n",
              "    <tr>\n",
              "      <th>0</th>\n",
              "      <td>No</td>\n",
              "      <td>16.60</td>\n",
              "      <td>Yes</td>\n",
              "      <td>No</td>\n",
              "      <td>No</td>\n",
              "      <td>3.0</td>\n",
              "      <td>30.0</td>\n",
              "      <td>No</td>\n",
              "      <td>Female</td>\n",
              "      <td>55-59</td>\n",
              "      <td>White</td>\n",
              "      <td>Yes</td>\n",
              "      <td>Yes</td>\n",
              "      <td>Very good</td>\n",
              "      <td>5.0</td>\n",
              "      <td>Yes</td>\n",
              "      <td>No</td>\n",
              "      <td>Yes</td>\n",
              "    </tr>\n",
              "    <tr>\n",
              "      <th>1</th>\n",
              "      <td>No</td>\n",
              "      <td>20.34</td>\n",
              "      <td>No</td>\n",
              "      <td>No</td>\n",
              "      <td>Yes</td>\n",
              "      <td>0.0</td>\n",
              "      <td>0.0</td>\n",
              "      <td>No</td>\n",
              "      <td>Female</td>\n",
              "      <td>80 or older</td>\n",
              "      <td>White</td>\n",
              "      <td>No</td>\n",
              "      <td>Yes</td>\n",
              "      <td>Very good</td>\n",
              "      <td>7.0</td>\n",
              "      <td>No</td>\n",
              "      <td>No</td>\n",
              "      <td>No</td>\n",
              "    </tr>\n",
              "    <tr>\n",
              "      <th>2</th>\n",
              "      <td>No</td>\n",
              "      <td>26.58</td>\n",
              "      <td>Yes</td>\n",
              "      <td>No</td>\n",
              "      <td>No</td>\n",
              "      <td>20.0</td>\n",
              "      <td>30.0</td>\n",
              "      <td>No</td>\n",
              "      <td>Male</td>\n",
              "      <td>65-69</td>\n",
              "      <td>White</td>\n",
              "      <td>Yes</td>\n",
              "      <td>Yes</td>\n",
              "      <td>Fair</td>\n",
              "      <td>8.0</td>\n",
              "      <td>Yes</td>\n",
              "      <td>No</td>\n",
              "      <td>No</td>\n",
              "    </tr>\n",
              "    <tr>\n",
              "      <th>3</th>\n",
              "      <td>No</td>\n",
              "      <td>24.21</td>\n",
              "      <td>No</td>\n",
              "      <td>No</td>\n",
              "      <td>No</td>\n",
              "      <td>0.0</td>\n",
              "      <td>0.0</td>\n",
              "      <td>No</td>\n",
              "      <td>Female</td>\n",
              "      <td>75-79</td>\n",
              "      <td>White</td>\n",
              "      <td>No</td>\n",
              "      <td>No</td>\n",
              "      <td>Good</td>\n",
              "      <td>6.0</td>\n",
              "      <td>No</td>\n",
              "      <td>No</td>\n",
              "      <td>Yes</td>\n",
              "    </tr>\n",
              "    <tr>\n",
              "      <th>4</th>\n",
              "      <td>No</td>\n",
              "      <td>23.71</td>\n",
              "      <td>No</td>\n",
              "      <td>No</td>\n",
              "      <td>No</td>\n",
              "      <td>28.0</td>\n",
              "      <td>0.0</td>\n",
              "      <td>Yes</td>\n",
              "      <td>Female</td>\n",
              "      <td>40-44</td>\n",
              "      <td>White</td>\n",
              "      <td>No</td>\n",
              "      <td>Yes</td>\n",
              "      <td>Very good</td>\n",
              "      <td>8.0</td>\n",
              "      <td>No</td>\n",
              "      <td>No</td>\n",
              "      <td>No</td>\n",
              "    </tr>\n",
              "    <tr>\n",
              "      <th>...</th>\n",
              "      <td>...</td>\n",
              "      <td>...</td>\n",
              "      <td>...</td>\n",
              "      <td>...</td>\n",
              "      <td>...</td>\n",
              "      <td>...</td>\n",
              "      <td>...</td>\n",
              "      <td>...</td>\n",
              "      <td>...</td>\n",
              "      <td>...</td>\n",
              "      <td>...</td>\n",
              "      <td>...</td>\n",
              "      <td>...</td>\n",
              "      <td>...</td>\n",
              "      <td>...</td>\n",
              "      <td>...</td>\n",
              "      <td>...</td>\n",
              "      <td>...</td>\n",
              "    </tr>\n",
              "    <tr>\n",
              "      <th>319790</th>\n",
              "      <td>Yes</td>\n",
              "      <td>27.41</td>\n",
              "      <td>Yes</td>\n",
              "      <td>No</td>\n",
              "      <td>No</td>\n",
              "      <td>7.0</td>\n",
              "      <td>0.0</td>\n",
              "      <td>Yes</td>\n",
              "      <td>Male</td>\n",
              "      <td>60-64</td>\n",
              "      <td>Hispanic</td>\n",
              "      <td>Yes</td>\n",
              "      <td>No</td>\n",
              "      <td>Fair</td>\n",
              "      <td>6.0</td>\n",
              "      <td>Yes</td>\n",
              "      <td>No</td>\n",
              "      <td>No</td>\n",
              "    </tr>\n",
              "    <tr>\n",
              "      <th>319791</th>\n",
              "      <td>No</td>\n",
              "      <td>29.84</td>\n",
              "      <td>Yes</td>\n",
              "      <td>No</td>\n",
              "      <td>No</td>\n",
              "      <td>0.0</td>\n",
              "      <td>0.0</td>\n",
              "      <td>No</td>\n",
              "      <td>Male</td>\n",
              "      <td>35-39</td>\n",
              "      <td>Hispanic</td>\n",
              "      <td>No</td>\n",
              "      <td>Yes</td>\n",
              "      <td>Very good</td>\n",
              "      <td>5.0</td>\n",
              "      <td>Yes</td>\n",
              "      <td>No</td>\n",
              "      <td>No</td>\n",
              "    </tr>\n",
              "    <tr>\n",
              "      <th>319792</th>\n",
              "      <td>No</td>\n",
              "      <td>24.24</td>\n",
              "      <td>No</td>\n",
              "      <td>No</td>\n",
              "      <td>No</td>\n",
              "      <td>0.0</td>\n",
              "      <td>0.0</td>\n",
              "      <td>No</td>\n",
              "      <td>Female</td>\n",
              "      <td>45-49</td>\n",
              "      <td>Hispanic</td>\n",
              "      <td>No</td>\n",
              "      <td>Yes</td>\n",
              "      <td>Good</td>\n",
              "      <td>6.0</td>\n",
              "      <td>No</td>\n",
              "      <td>No</td>\n",
              "      <td>No</td>\n",
              "    </tr>\n",
              "    <tr>\n",
              "      <th>319793</th>\n",
              "      <td>No</td>\n",
              "      <td>32.81</td>\n",
              "      <td>No</td>\n",
              "      <td>No</td>\n",
              "      <td>No</td>\n",
              "      <td>0.0</td>\n",
              "      <td>0.0</td>\n",
              "      <td>No</td>\n",
              "      <td>Female</td>\n",
              "      <td>25-29</td>\n",
              "      <td>Hispanic</td>\n",
              "      <td>No</td>\n",
              "      <td>No</td>\n",
              "      <td>Good</td>\n",
              "      <td>12.0</td>\n",
              "      <td>No</td>\n",
              "      <td>No</td>\n",
              "      <td>No</td>\n",
              "    </tr>\n",
              "    <tr>\n",
              "      <th>319794</th>\n",
              "      <td>No</td>\n",
              "      <td>46.56</td>\n",
              "      <td>No</td>\n",
              "      <td>No</td>\n",
              "      <td>No</td>\n",
              "      <td>0.0</td>\n",
              "      <td>0.0</td>\n",
              "      <td>No</td>\n",
              "      <td>Female</td>\n",
              "      <td>80 or older</td>\n",
              "      <td>Hispanic</td>\n",
              "      <td>No</td>\n",
              "      <td>Yes</td>\n",
              "      <td>Good</td>\n",
              "      <td>8.0</td>\n",
              "      <td>No</td>\n",
              "      <td>No</td>\n",
              "      <td>No</td>\n",
              "    </tr>\n",
              "  </tbody>\n",
              "</table>\n",
              "<p>319795 rows × 18 columns</p>\n",
              "</div>\n",
              "      <button class=\"colab-df-convert\" onclick=\"convertToInteractive('df-e5779ba6-122f-482c-9866-6fef521b5379')\"\n",
              "              title=\"Convert this dataframe to an interactive table.\"\n",
              "              style=\"display:none;\">\n",
              "        \n",
              "  <svg xmlns=\"http://www.w3.org/2000/svg\" height=\"24px\"viewBox=\"0 0 24 24\"\n",
              "       width=\"24px\">\n",
              "    <path d=\"M0 0h24v24H0V0z\" fill=\"none\"/>\n",
              "    <path d=\"M18.56 5.44l.94 2.06.94-2.06 2.06-.94-2.06-.94-.94-2.06-.94 2.06-2.06.94zm-11 1L8.5 8.5l.94-2.06 2.06-.94-2.06-.94L8.5 2.5l-.94 2.06-2.06.94zm10 10l.94 2.06.94-2.06 2.06-.94-2.06-.94-.94-2.06-.94 2.06-2.06.94z\"/><path d=\"M17.41 7.96l-1.37-1.37c-.4-.4-.92-.59-1.43-.59-.52 0-1.04.2-1.43.59L10.3 9.45l-7.72 7.72c-.78.78-.78 2.05 0 2.83L4 21.41c.39.39.9.59 1.41.59.51 0 1.02-.2 1.41-.59l7.78-7.78 2.81-2.81c.8-.78.8-2.07 0-2.86zM5.41 20L4 18.59l7.72-7.72 1.47 1.35L5.41 20z\"/>\n",
              "  </svg>\n",
              "      </button>\n",
              "      \n",
              "  <style>\n",
              "    .colab-df-container {\n",
              "      display:flex;\n",
              "      flex-wrap:wrap;\n",
              "      gap: 12px;\n",
              "    }\n",
              "\n",
              "    .colab-df-convert {\n",
              "      background-color: #E8F0FE;\n",
              "      border: none;\n",
              "      border-radius: 50%;\n",
              "      cursor: pointer;\n",
              "      display: none;\n",
              "      fill: #1967D2;\n",
              "      height: 32px;\n",
              "      padding: 0 0 0 0;\n",
              "      width: 32px;\n",
              "    }\n",
              "\n",
              "    .colab-df-convert:hover {\n",
              "      background-color: #E2EBFA;\n",
              "      box-shadow: 0px 1px 2px rgba(60, 64, 67, 0.3), 0px 1px 3px 1px rgba(60, 64, 67, 0.15);\n",
              "      fill: #174EA6;\n",
              "    }\n",
              "\n",
              "    [theme=dark] .colab-df-convert {\n",
              "      background-color: #3B4455;\n",
              "      fill: #D2E3FC;\n",
              "    }\n",
              "\n",
              "    [theme=dark] .colab-df-convert:hover {\n",
              "      background-color: #434B5C;\n",
              "      box-shadow: 0px 1px 3px 1px rgba(0, 0, 0, 0.15);\n",
              "      filter: drop-shadow(0px 1px 2px rgba(0, 0, 0, 0.3));\n",
              "      fill: #FFFFFF;\n",
              "    }\n",
              "  </style>\n",
              "\n",
              "      <script>\n",
              "        const buttonEl =\n",
              "          document.querySelector('#df-e5779ba6-122f-482c-9866-6fef521b5379 button.colab-df-convert');\n",
              "        buttonEl.style.display =\n",
              "          google.colab.kernel.accessAllowed ? 'block' : 'none';\n",
              "\n",
              "        async function convertToInteractive(key) {\n",
              "          const element = document.querySelector('#df-e5779ba6-122f-482c-9866-6fef521b5379');\n",
              "          const dataTable =\n",
              "            await google.colab.kernel.invokeFunction('convertToInteractive',\n",
              "                                                     [key], {});\n",
              "          if (!dataTable) return;\n",
              "\n",
              "          const docLinkHtml = 'Like what you see? Visit the ' +\n",
              "            '<a target=\"_blank\" href=https://colab.research.google.com/notebooks/data_table.ipynb>data table notebook</a>'\n",
              "            + ' to learn more about interactive tables.';\n",
              "          element.innerHTML = '';\n",
              "          dataTable['output_type'] = 'display_data';\n",
              "          await google.colab.output.renderOutput(dataTable, element);\n",
              "          const docLink = document.createElement('div');\n",
              "          docLink.innerHTML = docLinkHtml;\n",
              "          element.appendChild(docLink);\n",
              "        }\n",
              "      </script>\n",
              "    </div>\n",
              "  </div>\n",
              "  "
            ]
          },
          "metadata": {},
          "execution_count": 62
        }
      ]
    },
    {
      "cell_type": "code",
      "source": [
        "\n",
        "# Replace yes and no with 1 and 0\n",
        "heart_disease_df.replace(('Yes','No'), (1.0, 0), inplace=True)\n",
        "\n",
        "# one-hot encode Race\n",
        "dummy = pd.get_dummies(heart_disease_df[['Race']], prefix=['Race'])\n",
        "# drop non-one-hot encoded Race\n",
        "heart_disease_df.drop(['Race'], axis=1, inplace=True)\n",
        "# join one-hot encoded data back to DataFrame\n",
        "heart_disease_df = heart_disease_df.join(dummy)\n",
        "\n",
        "# Deal with 'Yes (during pregnancy)' status and 'No, borderline diabetes' status under Diabetic\n",
        "heart_disease_df.replace(('Yes (during pregnancy)'), (1.0), inplace=True)\n",
        "heart_disease_df.replace(('No, borderline diabetes'), (0), inplace=True)\n",
        "\n",
        "# Create a new column called \"general_health_factor\" that takes a ranked integer value between 0 and 4.\n",
        "# Ordinal Encoding of GenHealth: Poor < Fair < Good < Very good < Excellent\n",
        "scale_mapper = {\"Poor\":0, \"Fair\":1, \"Good\":2,\"Very good\":3,\"Excellent\":4}\n",
        "heart_disease_df[\"general_health_factor\"] = heart_disease_df[\"GenHealth\"].replace(scale_mapper,regex=True)\n",
        "heart_disease_df.drop(['GenHealth'], axis=1, inplace=True)\n",
        "\n",
        "# Create a new column called \"age_factor\" that takes a ranked integer value between 0 and 12.\n",
        "# Ordinal Encoding of AgeCategory: \"18-24\" < \"25-29\" < \"30-34\" < \"35-39\" < \"40-44\" < \"45-49\" < \"50-54\" < \"55-59\" < \"60-64\" < \"65-69\" < \"70-74\" < \"75-79\" < \"80 or older\"\n",
        "scale_mapper = {\"18-24\":0, \"25-29\":1, \"30-34\":2, \"35-39\":3, \"40-44\":4, \"45-49\":5, \"50-54\":6, \"55-59\":7, \"60-64\":8, \"65-69\":9, \"70-74\":10, \"75-79\":11, \"80 or older\":12}\n",
        "heart_disease_df[\"age_factor\"] = heart_disease_df[\"AgeCategory\"].replace(scale_mapper,regex=True)\n",
        "heart_disease_df.drop(['AgeCategory'], axis=1, inplace=True)\n",
        "\n",
        "# Create a new column called \"sex_factor\" that takes a binary integer value (male: 0, female: 1.\n",
        "scale_mapper = {\"Male\":0, \"Female\":1}\n",
        "heart_disease_df[\"sex_factor\"] = heart_disease_df[\"Sex\"].replace(scale_mapper,regex=True)\n",
        "heart_disease_df.drop(['Sex'], axis=1, inplace=True)\n",
        "\n",
        "heart_disease_df"
      ],
      "metadata": {
        "colab": {
          "base_uri": "https://localhost:8080/",
          "height": 522
        },
        "id": "qgf2RhmdjaC8",
        "outputId": "bc60f264-b1eb-4458-ea49-b918c7710768"
      },
      "execution_count": null,
      "outputs": [
        {
          "output_type": "execute_result",
          "data": {
            "text/plain": [
              "        HeartDisease    BMI  Smoking  AlcoholDrinking  Stroke  PhysicalHealth  \\\n",
              "0                0.0  16.60      1.0              0.0     0.0             3.0   \n",
              "1                0.0  20.34      0.0              0.0     1.0             0.0   \n",
              "2                0.0  26.58      1.0              0.0     0.0            20.0   \n",
              "3                0.0  24.21      0.0              0.0     0.0             0.0   \n",
              "4                0.0  23.71      0.0              0.0     0.0            28.0   \n",
              "...              ...    ...      ...              ...     ...             ...   \n",
              "319790           1.0  27.41      1.0              0.0     0.0             7.0   \n",
              "319791           0.0  29.84      1.0              0.0     0.0             0.0   \n",
              "319792           0.0  24.24      0.0              0.0     0.0             0.0   \n",
              "319793           0.0  32.81      0.0              0.0     0.0             0.0   \n",
              "319794           0.0  46.56      0.0              0.0     0.0             0.0   \n",
              "\n",
              "        MentalHealth  DiffWalking  Diabetic  PhysicalActivity  ...  \\\n",
              "0               30.0          0.0       1.0               1.0  ...   \n",
              "1                0.0          0.0       0.0               1.0  ...   \n",
              "2               30.0          0.0       1.0               1.0  ...   \n",
              "3                0.0          0.0       0.0               0.0  ...   \n",
              "4                0.0          1.0       0.0               1.0  ...   \n",
              "...              ...          ...       ...               ...  ...   \n",
              "319790           0.0          1.0       1.0               0.0  ...   \n",
              "319791           0.0          0.0       0.0               1.0  ...   \n",
              "319792           0.0          0.0       0.0               1.0  ...   \n",
              "319793           0.0          0.0       0.0               0.0  ...   \n",
              "319794           0.0          0.0       0.0               1.0  ...   \n",
              "\n",
              "        SkinCancer  Race_American Indian/Alaskan Native  Race_Asian  \\\n",
              "0              1.0                                    0           0   \n",
              "1              0.0                                    0           0   \n",
              "2              0.0                                    0           0   \n",
              "3              1.0                                    0           0   \n",
              "4              0.0                                    0           0   \n",
              "...            ...                                  ...         ...   \n",
              "319790         0.0                                    0           0   \n",
              "319791         0.0                                    0           0   \n",
              "319792         0.0                                    0           0   \n",
              "319793         0.0                                    0           0   \n",
              "319794         0.0                                    0           0   \n",
              "\n",
              "        Race_Black  Race_Hispanic  Race_Other  Race_White  \\\n",
              "0                0              0           0           1   \n",
              "1                0              0           0           1   \n",
              "2                0              0           0           1   \n",
              "3                0              0           0           1   \n",
              "4                0              0           0           1   \n",
              "...            ...            ...         ...         ...   \n",
              "319790           0              1           0           0   \n",
              "319791           0              1           0           0   \n",
              "319792           0              1           0           0   \n",
              "319793           0              1           0           0   \n",
              "319794           0              1           0           0   \n",
              "\n",
              "        general_health_factor  age_factor  sex_factor  \n",
              "0                           3           7           1  \n",
              "1                           3          12           1  \n",
              "2                           1           9           0  \n",
              "3                           2          11           1  \n",
              "4                           3           4           1  \n",
              "...                       ...         ...         ...  \n",
              "319790                      1           8           0  \n",
              "319791                      3           3           0  \n",
              "319792                      2           5           1  \n",
              "319793                      2           1           1  \n",
              "319794                      2          12           1  \n",
              "\n",
              "[319795 rows x 23 columns]"
            ],
            "text/html": [
              "\n",
              "  <div id=\"df-adea3a32-7ade-4301-86e8-24c27cf9dff6\">\n",
              "    <div class=\"colab-df-container\">\n",
              "      <div>\n",
              "<style scoped>\n",
              "    .dataframe tbody tr th:only-of-type {\n",
              "        vertical-align: middle;\n",
              "    }\n",
              "\n",
              "    .dataframe tbody tr th {\n",
              "        vertical-align: top;\n",
              "    }\n",
              "\n",
              "    .dataframe thead th {\n",
              "        text-align: right;\n",
              "    }\n",
              "</style>\n",
              "<table border=\"1\" class=\"dataframe\">\n",
              "  <thead>\n",
              "    <tr style=\"text-align: right;\">\n",
              "      <th></th>\n",
              "      <th>HeartDisease</th>\n",
              "      <th>BMI</th>\n",
              "      <th>Smoking</th>\n",
              "      <th>AlcoholDrinking</th>\n",
              "      <th>Stroke</th>\n",
              "      <th>PhysicalHealth</th>\n",
              "      <th>MentalHealth</th>\n",
              "      <th>DiffWalking</th>\n",
              "      <th>Diabetic</th>\n",
              "      <th>PhysicalActivity</th>\n",
              "      <th>...</th>\n",
              "      <th>SkinCancer</th>\n",
              "      <th>Race_American Indian/Alaskan Native</th>\n",
              "      <th>Race_Asian</th>\n",
              "      <th>Race_Black</th>\n",
              "      <th>Race_Hispanic</th>\n",
              "      <th>Race_Other</th>\n",
              "      <th>Race_White</th>\n",
              "      <th>general_health_factor</th>\n",
              "      <th>age_factor</th>\n",
              "      <th>sex_factor</th>\n",
              "    </tr>\n",
              "  </thead>\n",
              "  <tbody>\n",
              "    <tr>\n",
              "      <th>0</th>\n",
              "      <td>0.0</td>\n",
              "      <td>16.60</td>\n",
              "      <td>1.0</td>\n",
              "      <td>0.0</td>\n",
              "      <td>0.0</td>\n",
              "      <td>3.0</td>\n",
              "      <td>30.0</td>\n",
              "      <td>0.0</td>\n",
              "      <td>1.0</td>\n",
              "      <td>1.0</td>\n",
              "      <td>...</td>\n",
              "      <td>1.0</td>\n",
              "      <td>0</td>\n",
              "      <td>0</td>\n",
              "      <td>0</td>\n",
              "      <td>0</td>\n",
              "      <td>0</td>\n",
              "      <td>1</td>\n",
              "      <td>3</td>\n",
              "      <td>7</td>\n",
              "      <td>1</td>\n",
              "    </tr>\n",
              "    <tr>\n",
              "      <th>1</th>\n",
              "      <td>0.0</td>\n",
              "      <td>20.34</td>\n",
              "      <td>0.0</td>\n",
              "      <td>0.0</td>\n",
              "      <td>1.0</td>\n",
              "      <td>0.0</td>\n",
              "      <td>0.0</td>\n",
              "      <td>0.0</td>\n",
              "      <td>0.0</td>\n",
              "      <td>1.0</td>\n",
              "      <td>...</td>\n",
              "      <td>0.0</td>\n",
              "      <td>0</td>\n",
              "      <td>0</td>\n",
              "      <td>0</td>\n",
              "      <td>0</td>\n",
              "      <td>0</td>\n",
              "      <td>1</td>\n",
              "      <td>3</td>\n",
              "      <td>12</td>\n",
              "      <td>1</td>\n",
              "    </tr>\n",
              "    <tr>\n",
              "      <th>2</th>\n",
              "      <td>0.0</td>\n",
              "      <td>26.58</td>\n",
              "      <td>1.0</td>\n",
              "      <td>0.0</td>\n",
              "      <td>0.0</td>\n",
              "      <td>20.0</td>\n",
              "      <td>30.0</td>\n",
              "      <td>0.0</td>\n",
              "      <td>1.0</td>\n",
              "      <td>1.0</td>\n",
              "      <td>...</td>\n",
              "      <td>0.0</td>\n",
              "      <td>0</td>\n",
              "      <td>0</td>\n",
              "      <td>0</td>\n",
              "      <td>0</td>\n",
              "      <td>0</td>\n",
              "      <td>1</td>\n",
              "      <td>1</td>\n",
              "      <td>9</td>\n",
              "      <td>0</td>\n",
              "    </tr>\n",
              "    <tr>\n",
              "      <th>3</th>\n",
              "      <td>0.0</td>\n",
              "      <td>24.21</td>\n",
              "      <td>0.0</td>\n",
              "      <td>0.0</td>\n",
              "      <td>0.0</td>\n",
              "      <td>0.0</td>\n",
              "      <td>0.0</td>\n",
              "      <td>0.0</td>\n",
              "      <td>0.0</td>\n",
              "      <td>0.0</td>\n",
              "      <td>...</td>\n",
              "      <td>1.0</td>\n",
              "      <td>0</td>\n",
              "      <td>0</td>\n",
              "      <td>0</td>\n",
              "      <td>0</td>\n",
              "      <td>0</td>\n",
              "      <td>1</td>\n",
              "      <td>2</td>\n",
              "      <td>11</td>\n",
              "      <td>1</td>\n",
              "    </tr>\n",
              "    <tr>\n",
              "      <th>4</th>\n",
              "      <td>0.0</td>\n",
              "      <td>23.71</td>\n",
              "      <td>0.0</td>\n",
              "      <td>0.0</td>\n",
              "      <td>0.0</td>\n",
              "      <td>28.0</td>\n",
              "      <td>0.0</td>\n",
              "      <td>1.0</td>\n",
              "      <td>0.0</td>\n",
              "      <td>1.0</td>\n",
              "      <td>...</td>\n",
              "      <td>0.0</td>\n",
              "      <td>0</td>\n",
              "      <td>0</td>\n",
              "      <td>0</td>\n",
              "      <td>0</td>\n",
              "      <td>0</td>\n",
              "      <td>1</td>\n",
              "      <td>3</td>\n",
              "      <td>4</td>\n",
              "      <td>1</td>\n",
              "    </tr>\n",
              "    <tr>\n",
              "      <th>...</th>\n",
              "      <td>...</td>\n",
              "      <td>...</td>\n",
              "      <td>...</td>\n",
              "      <td>...</td>\n",
              "      <td>...</td>\n",
              "      <td>...</td>\n",
              "      <td>...</td>\n",
              "      <td>...</td>\n",
              "      <td>...</td>\n",
              "      <td>...</td>\n",
              "      <td>...</td>\n",
              "      <td>...</td>\n",
              "      <td>...</td>\n",
              "      <td>...</td>\n",
              "      <td>...</td>\n",
              "      <td>...</td>\n",
              "      <td>...</td>\n",
              "      <td>...</td>\n",
              "      <td>...</td>\n",
              "      <td>...</td>\n",
              "      <td>...</td>\n",
              "    </tr>\n",
              "    <tr>\n",
              "      <th>319790</th>\n",
              "      <td>1.0</td>\n",
              "      <td>27.41</td>\n",
              "      <td>1.0</td>\n",
              "      <td>0.0</td>\n",
              "      <td>0.0</td>\n",
              "      <td>7.0</td>\n",
              "      <td>0.0</td>\n",
              "      <td>1.0</td>\n",
              "      <td>1.0</td>\n",
              "      <td>0.0</td>\n",
              "      <td>...</td>\n",
              "      <td>0.0</td>\n",
              "      <td>0</td>\n",
              "      <td>0</td>\n",
              "      <td>0</td>\n",
              "      <td>1</td>\n",
              "      <td>0</td>\n",
              "      <td>0</td>\n",
              "      <td>1</td>\n",
              "      <td>8</td>\n",
              "      <td>0</td>\n",
              "    </tr>\n",
              "    <tr>\n",
              "      <th>319791</th>\n",
              "      <td>0.0</td>\n",
              "      <td>29.84</td>\n",
              "      <td>1.0</td>\n",
              "      <td>0.0</td>\n",
              "      <td>0.0</td>\n",
              "      <td>0.0</td>\n",
              "      <td>0.0</td>\n",
              "      <td>0.0</td>\n",
              "      <td>0.0</td>\n",
              "      <td>1.0</td>\n",
              "      <td>...</td>\n",
              "      <td>0.0</td>\n",
              "      <td>0</td>\n",
              "      <td>0</td>\n",
              "      <td>0</td>\n",
              "      <td>1</td>\n",
              "      <td>0</td>\n",
              "      <td>0</td>\n",
              "      <td>3</td>\n",
              "      <td>3</td>\n",
              "      <td>0</td>\n",
              "    </tr>\n",
              "    <tr>\n",
              "      <th>319792</th>\n",
              "      <td>0.0</td>\n",
              "      <td>24.24</td>\n",
              "      <td>0.0</td>\n",
              "      <td>0.0</td>\n",
              "      <td>0.0</td>\n",
              "      <td>0.0</td>\n",
              "      <td>0.0</td>\n",
              "      <td>0.0</td>\n",
              "      <td>0.0</td>\n",
              "      <td>1.0</td>\n",
              "      <td>...</td>\n",
              "      <td>0.0</td>\n",
              "      <td>0</td>\n",
              "      <td>0</td>\n",
              "      <td>0</td>\n",
              "      <td>1</td>\n",
              "      <td>0</td>\n",
              "      <td>0</td>\n",
              "      <td>2</td>\n",
              "      <td>5</td>\n",
              "      <td>1</td>\n",
              "    </tr>\n",
              "    <tr>\n",
              "      <th>319793</th>\n",
              "      <td>0.0</td>\n",
              "      <td>32.81</td>\n",
              "      <td>0.0</td>\n",
              "      <td>0.0</td>\n",
              "      <td>0.0</td>\n",
              "      <td>0.0</td>\n",
              "      <td>0.0</td>\n",
              "      <td>0.0</td>\n",
              "      <td>0.0</td>\n",
              "      <td>0.0</td>\n",
              "      <td>...</td>\n",
              "      <td>0.0</td>\n",
              "      <td>0</td>\n",
              "      <td>0</td>\n",
              "      <td>0</td>\n",
              "      <td>1</td>\n",
              "      <td>0</td>\n",
              "      <td>0</td>\n",
              "      <td>2</td>\n",
              "      <td>1</td>\n",
              "      <td>1</td>\n",
              "    </tr>\n",
              "    <tr>\n",
              "      <th>319794</th>\n",
              "      <td>0.0</td>\n",
              "      <td>46.56</td>\n",
              "      <td>0.0</td>\n",
              "      <td>0.0</td>\n",
              "      <td>0.0</td>\n",
              "      <td>0.0</td>\n",
              "      <td>0.0</td>\n",
              "      <td>0.0</td>\n",
              "      <td>0.0</td>\n",
              "      <td>1.0</td>\n",
              "      <td>...</td>\n",
              "      <td>0.0</td>\n",
              "      <td>0</td>\n",
              "      <td>0</td>\n",
              "      <td>0</td>\n",
              "      <td>1</td>\n",
              "      <td>0</td>\n",
              "      <td>0</td>\n",
              "      <td>2</td>\n",
              "      <td>12</td>\n",
              "      <td>1</td>\n",
              "    </tr>\n",
              "  </tbody>\n",
              "</table>\n",
              "<p>319795 rows × 23 columns</p>\n",
              "</div>\n",
              "      <button class=\"colab-df-convert\" onclick=\"convertToInteractive('df-adea3a32-7ade-4301-86e8-24c27cf9dff6')\"\n",
              "              title=\"Convert this dataframe to an interactive table.\"\n",
              "              style=\"display:none;\">\n",
              "        \n",
              "  <svg xmlns=\"http://www.w3.org/2000/svg\" height=\"24px\"viewBox=\"0 0 24 24\"\n",
              "       width=\"24px\">\n",
              "    <path d=\"M0 0h24v24H0V0z\" fill=\"none\"/>\n",
              "    <path d=\"M18.56 5.44l.94 2.06.94-2.06 2.06-.94-2.06-.94-.94-2.06-.94 2.06-2.06.94zm-11 1L8.5 8.5l.94-2.06 2.06-.94-2.06-.94L8.5 2.5l-.94 2.06-2.06.94zm10 10l.94 2.06.94-2.06 2.06-.94-2.06-.94-.94-2.06-.94 2.06-2.06.94z\"/><path d=\"M17.41 7.96l-1.37-1.37c-.4-.4-.92-.59-1.43-.59-.52 0-1.04.2-1.43.59L10.3 9.45l-7.72 7.72c-.78.78-.78 2.05 0 2.83L4 21.41c.39.39.9.59 1.41.59.51 0 1.02-.2 1.41-.59l7.78-7.78 2.81-2.81c.8-.78.8-2.07 0-2.86zM5.41 20L4 18.59l7.72-7.72 1.47 1.35L5.41 20z\"/>\n",
              "  </svg>\n",
              "      </button>\n",
              "      \n",
              "  <style>\n",
              "    .colab-df-container {\n",
              "      display:flex;\n",
              "      flex-wrap:wrap;\n",
              "      gap: 12px;\n",
              "    }\n",
              "\n",
              "    .colab-df-convert {\n",
              "      background-color: #E8F0FE;\n",
              "      border: none;\n",
              "      border-radius: 50%;\n",
              "      cursor: pointer;\n",
              "      display: none;\n",
              "      fill: #1967D2;\n",
              "      height: 32px;\n",
              "      padding: 0 0 0 0;\n",
              "      width: 32px;\n",
              "    }\n",
              "\n",
              "    .colab-df-convert:hover {\n",
              "      background-color: #E2EBFA;\n",
              "      box-shadow: 0px 1px 2px rgba(60, 64, 67, 0.3), 0px 1px 3px 1px rgba(60, 64, 67, 0.15);\n",
              "      fill: #174EA6;\n",
              "    }\n",
              "\n",
              "    [theme=dark] .colab-df-convert {\n",
              "      background-color: #3B4455;\n",
              "      fill: #D2E3FC;\n",
              "    }\n",
              "\n",
              "    [theme=dark] .colab-df-convert:hover {\n",
              "      background-color: #434B5C;\n",
              "      box-shadow: 0px 1px 3px 1px rgba(0, 0, 0, 0.15);\n",
              "      filter: drop-shadow(0px 1px 2px rgba(0, 0, 0, 0.3));\n",
              "      fill: #FFFFFF;\n",
              "    }\n",
              "  </style>\n",
              "\n",
              "      <script>\n",
              "        const buttonEl =\n",
              "          document.querySelector('#df-adea3a32-7ade-4301-86e8-24c27cf9dff6 button.colab-df-convert');\n",
              "        buttonEl.style.display =\n",
              "          google.colab.kernel.accessAllowed ? 'block' : 'none';\n",
              "\n",
              "        async function convertToInteractive(key) {\n",
              "          const element = document.querySelector('#df-adea3a32-7ade-4301-86e8-24c27cf9dff6');\n",
              "          const dataTable =\n",
              "            await google.colab.kernel.invokeFunction('convertToInteractive',\n",
              "                                                     [key], {});\n",
              "          if (!dataTable) return;\n",
              "\n",
              "          const docLinkHtml = 'Like what you see? Visit the ' +\n",
              "            '<a target=\"_blank\" href=https://colab.research.google.com/notebooks/data_table.ipynb>data table notebook</a>'\n",
              "            + ' to learn more about interactive tables.';\n",
              "          element.innerHTML = '';\n",
              "          dataTable['output_type'] = 'display_data';\n",
              "          await google.colab.output.renderOutput(dataTable, element);\n",
              "          const docLink = document.createElement('div');\n",
              "          docLink.innerHTML = docLinkHtml;\n",
              "          element.appendChild(docLink);\n",
              "        }\n",
              "      </script>\n",
              "    </div>\n",
              "  </div>\n",
              "  "
            ]
          },
          "metadata": {},
          "execution_count": 63
        }
      ]
    },
    {
      "cell_type": "markdown",
      "source": [
        "# Preliminary Analysis"
      ],
      "metadata": {
        "id": "jw4Xt7IJ3A5Y"
      }
    },
    {
      "cell_type": "markdown",
      "source": [
        "Now that our data has been properly transformed, let's take a look at the correlation matrix to determine how much colinearity there between the features."
      ],
      "metadata": {
        "id": "xPsIY_ciQO8X"
      }
    },
    {
      "cell_type": "code",
      "source": [
        "#As symbols are harder to scan than colors, we plot a heatmap. \n",
        "cor_matrix = heart_disease_df.corr()\n",
        "fig, size = plt.subplots(figsize=(25, 20)) \n",
        "sns.heatmap(data=cor_matrix, vmin=-0.5, vmax=0.5, center=0, cmap='RdBu', ax=size)\n",
        "plt.show()"
      ],
      "metadata": {
        "colab": {
          "base_uri": "https://localhost:8080/",
          "height": 1000
        },
        "id": "UjUbsnAQkWYW",
        "outputId": "7e6fe29b-c05f-4fc8-df97-83840ffc006c"
      },
      "execution_count": null,
      "outputs": [
        {
          "output_type": "display_data",
          "data": {
            "text/plain": [
              "<Figure size 1800x1440 with 2 Axes>"
            ],
            "image/png": "[encoded data removed]"
          },
          "metadata": {
            "needs_background": "light"
          }
        }
      ]
    },
    {
      "cell_type": "markdown",
      "source": [
        "Note: Scaling is between +0.5 and -0.5 (not +1.0 and -1.0), as there were no significantly strong correlations between features\n",
        "\n",
        "Based on the visualization of the correlation matrix, we see some noticable correlations between the below features. \n",
        "\n",
        "Physical Health is measure as how many days in the past 30 did you not feel well.\n",
        "\n",
        "- Difficulty Walking and Physical Health (Positive) - This makes sense as if one was feeling worse over the past 30 days they may encouter difficulty walking\n",
        "- Physical Health and General Health (Negative) - As general health is ordinal encoded as 0-4 where 0 is poor and 4 is excellent, we expect ones general health to negatively correlate with the number of days one feels unwell\n",
        "- Physical Activity and Physical Health (Negative) - As expected, one would be healthier (lower ranking in Physical Health category) if they have higher physical activity. ANother way to look at this is that one would have higher physical activity when in better physical health.\n",
        "- Heart Disease and sex_factor (Negative) - As sex_factor is one-hot encoded as male-0 and female-1, this suggests that males are more prone to heart disease than females"
      ],
      "metadata": {
        "id": "2OfBOKuiQiHv"
      }
    },
    {
      "cell_type": "markdown",
      "source": [
        "Before we dive right into the ML models, let's do one more simple analysis of the the feature data. Specifically, let's look at the statistical significance (z-score) of the features."
      ],
      "metadata": {
        "id": "en5pGvfjUvcV"
      }
    },
    {
      "cell_type": "code",
      "source": [
        "#Let's separately extract the features and label/classification\n",
        "features = heart_disease_df.copy()\n",
        "features.drop(['HeartDisease'], axis=1, inplace=True)\n",
        "labels = heart_disease_df['HeartDisease']"
      ],
      "metadata": {
        "id": "FCLDPgpukcQs"
      },
      "execution_count": null,
      "outputs": []
    },
    {
      "cell_type": "code",
      "source": [
        "#Find statistical significance \n",
        "stat_sig = features.copy()\n",
        "stat_sig.rename(columns = {'Race_American Indian/Alaskan Native':'Race_AmericanIndian__AlaskanNative'}, inplace = True)\n",
        "stat_sig_full = heart_disease_df.copy()\n",
        "stat_sig_full.rename(columns = {'Race_American Indian/Alaskan Native':'Race_AmericanIndian__AlaskanNative'}, inplace = True)\n",
        "text = 'HeartDisease~BMI'\n",
        "columns = stat_sig.columns\n",
        "for colu in columns:\n",
        "    text = text + '+' + str(colu)\n",
        "    \n",
        "text\n",
        "\n",
        "fit1 = smf.glm(text, data = stat_sig_full, family=sm.families.Binomial()).fit()\n",
        "print(fit1.summary())"
      ],
      "metadata": {
        "colab": {
          "base_uri": "https://localhost:8080/"
        },
        "id": "fVZbuoDCkrUz",
        "outputId": "1a0e1d3c-58f4-48a5-f539-9a365115df6f"
      },
      "execution_count": null,
      "outputs": [
        {
          "output_type": "stream",
          "name": "stdout",
          "text": [
            "                 Generalized Linear Model Regression Results                  \n",
            "==============================================================================\n",
            "Dep. Variable:           HeartDisease   No. Observations:               319795\n",
            "Model:                            GLM   Df Residuals:                   319773\n",
            "Model Family:                Binomial   Df Model:                           21\n",
            "Link Function:                  logit   Scale:                          1.0000\n",
            "Method:                          IRLS   Log-Likelihood:                -72636.\n",
            "Date:                Fri, 16 Dec 2022   Deviance:                   1.4527e+05\n",
            "Time:                        16:26:05   Pearson chi2:                 2.97e+05\n",
            "No. Iterations:                     7                                         \n",
            "Covariance Type:            nonrobust                                         \n",
            "======================================================================================================\n",
            "                                         coef    std err          z      P>|z|      [0.025      0.975]\n",
            "------------------------------------------------------------------------------------------------------\n",
            "Intercept                             -3.2604      0.053    -61.252      0.000      -3.365      -3.156\n",
            "BMI                                    0.0099      0.001      8.778      0.000       0.008       0.012\n",
            "Smoking                                0.3591      0.014     25.041      0.000       0.331       0.387\n",
            "AlcoholDrinking                       -0.2363      0.034     -7.050      0.000      -0.302      -0.171\n",
            "Stroke                                 1.0476      0.023     46.171      0.000       1.003       1.092\n",
            "PhysicalHealth                         0.0021      0.001      2.502      0.012       0.000       0.004\n",
            "MentalHealth                           0.0045      0.001      5.120      0.000       0.003       0.006\n",
            "DiffWalking                            0.2097      0.018     11.562      0.000       0.174       0.245\n",
            "Diabetic                               0.4730      0.016     28.800      0.000       0.441       0.505\n",
            "PhysicalActivity                       0.0229      0.016      1.423      0.155      -0.009       0.054\n",
            "SleepTime                             -0.0266      0.004     -6.128      0.000      -0.035      -0.018\n",
            "Asthma                                 0.2785      0.019     14.475      0.000       0.241       0.316\n",
            "KidneyDisease                          0.5663      0.024     23.141      0.000       0.518       0.614\n",
            "SkinCancer                             0.1058      0.020      5.421      0.000       0.068       0.144\n",
            "Race_AmericanIndian__AlaskanNative    -0.3286      0.046     -7.097      0.000      -0.419      -0.238\n",
            "Race_Asian                            -0.8665      0.059    -14.782      0.000      -0.981      -0.752\n",
            "Race_Black                            -0.6712      0.029    -23.107      0.000      -0.728      -0.614\n",
            "Race_Hispanic                         -0.5866      0.030    -19.672      0.000      -0.645      -0.528\n",
            "Race_Other                            -0.3948      0.037    -10.649      0.000      -0.467      -0.322\n",
            "Race_White                            -0.4127      0.019    -21.417      0.000      -0.450      -0.375\n",
            "general_health_factor                 -0.5014      0.008    -59.059      0.000      -0.518      -0.485\n",
            "age_factor                             0.2723      0.003     89.549      0.000       0.266       0.278\n",
            "sex_factor                            -0.7168      0.015    -49.355      0.000      -0.745      -0.688\n",
            "======================================================================================================\n"
          ]
        }
      ]
    },
    {
      "cell_type": "markdown",
      "source": [
        "From, the statistical test results, we can see that both Physical Activity and Physical Health may not be statistically significant with respect to Heart Disease. We see this by comparing the 'P>|z|' to the confidence interval values (columns 0.025 and 0.975). In other words, we are not confident that the coefficients for Physical Activuty and Physical Health are not 0. Since we are unsure of any interaction effects between these two features and other features, let's just take these results with a grain of salt and still include them in our models."
      ],
      "metadata": {
        "id": "hL03N6uxWLkS"
      }
    },
    {
      "cell_type": "markdown",
      "source": [
        "# ML Modeling\n",
        "Let's first perform some unsupervised ML before feeding our data to supervised ML models. "
      ],
      "metadata": {
        "id": "XGUYIGSZYfv9"
      }
    },
    {
      "cell_type": "markdown",
      "source": [
        "## PCA\n",
        "Let's start with some Principal Component Analysis (PCA) to potentially reduce the number of features and reduce collinearity. "
      ],
      "metadata": {
        "id": "-asYJoJ73JAY"
      }
    },
    {
      "cell_type": "code",
      "source": [
        "# Conduct 80/20 train-test split with random_state = 42\n",
        "x_train, x_test, y_train, y_test = train_test_split(features, labels, train_size = 0.5, test_size = 0.5, random_state = 42)"
      ],
      "metadata": {
        "id": "UeG4mqbDkwLh"
      },
      "execution_count": null,
      "outputs": []
    },
    {
      "cell_type": "code",
      "source": [
        "#First, scale data for equivalent comparison\n",
        "sc = StandardScaler()\n",
        "sc.fit(x_train)\n",
        "x_train_sc = sc.transform(x_train)\n",
        "x_test_sc = sc.transform(x_test)\n",
        "\n"
      ],
      "metadata": {
        "id": "YxOBBr9blW2t"
      },
      "execution_count": null,
      "outputs": []
    },
    {
      "cell_type": "code",
      "source": [
        "#transform to PCA\n",
        "pca = PCA(n_components=len(features.columns)) #Start with all features\n",
        "x_train_pca = pca.fit_transform(x_train_sc)\n",
        "\n",
        "# Save the explained variance ratios into variable called \"explained_variance_ratios\"\n",
        "explained_variance_ratios = pca.explained_variance_ratio_\n",
        "# Save the CUMULATIVE explained variance ratios into variable called \"cum_evr\"\n",
        "cum_evr = npy.cumsum(explained_variance_ratios)\n",
        "\n",
        "#Plot the explained variance ratios to determined ideal # principal components\n",
        "plt.xlabel('Principal Comp Index')\n",
        "plt.ylabel('Explained Variance Ratio')\n",
        "plt.bar(range(0,len(explained_variance_ratios)), cum_evr, label='Cummulative Explained Variance Ratios', align='center', alpha=0.5)\n",
        "plt.show()\n",
        "\n",
        "\n",
        "\n",
        "\n"
      ],
      "metadata": {
        "colab": {
          "base_uri": "https://localhost:8080/",
          "height": 279
        },
        "id": "mktRfVprlwjV",
        "outputId": "3a026fac-1217-4384-e167-fd89fc4d743b"
      },
      "execution_count": null,
      "outputs": [
        {
          "output_type": "display_data",
          "data": {
            "text/plain": [
              "<Figure size 432x288 with 1 Axes>"
            ],
            "image/png": "[encoded data removed]"
          },
          "metadata": {
            "needs_background": "light"
          }
        }
      ]
    },
    {
      "cell_type": "markdown",
      "source": [
        "We see that we cannot reduce our current number of features by that much. Let's still give it a try. They explained variance ratio levels off around 19. We will compare performance between the data and data transformed with PCA. We will ROC AUC to evaluate their performance as it is a better metric for unbalanced data (we will investigate data imbalance later)."
      ],
      "metadata": {
        "id": "vJF998IOaRMV"
      }
    },
    {
      "cell_type": "code",
      "source": [
        "#Perform Final PCA based on new number of principal components\n",
        "pca = PCA(n_components=19)\n",
        "x_train_pca = pca.fit_transform(x_train_sc)\n",
        "x_test_pca = pca.transform(x_test_sc)"
      ],
      "metadata": {
        "id": "xMy50vPGaSkL"
      },
      "execution_count": null,
      "outputs": []
    },
    {
      "cell_type": "code",
      "source": [
        "# ROC AUC helper function\n",
        "\n",
        "def plot_roc_curve(x_test, y_test, model, text):\n",
        "    y_pred_prob = model.predict_proba(x_test)[::,1]\n",
        "    fpr, tpr, _ = roc_curve(y_test, y_pred_prob)\n",
        "    auc = roc_auc_score(y_test, y_pred_prob)\n",
        "\n",
        "    plt.title('ROC ' + text)\n",
        "    plt.xlabel('FPR')\n",
        "    plt.ylabel('TPR')\n",
        "    plt.plot(fpr, tpr, label=\"AUC=\"+str(auc))\n",
        "    plt.legend(loc=4)\n",
        "    plt.show()\n",
        "    plt.clf()\n"
      ],
      "metadata": {
        "id": "odOEaD1z-WhL"
      },
      "execution_count": null,
      "outputs": []
    },
    {
      "cell_type": "markdown",
      "source": [
        "### Logistic Regression (Unregularized)"
      ],
      "metadata": {
        "id": "5zQZmwKibe6X"
      }
    },
    {
      "cell_type": "code",
      "source": [
        "#Instantiate, fit, predict, and score logistic regression \n",
        "\n",
        "# Without PCA\n",
        "#Instantiate, fit, predict, and score logistic regression\n",
        "reg = LogisticRegression()\n",
        "reg_model = reg.fit(x_train_sc, y_train)\n",
        "y_pred = reg.predict(x_test_sc)\n",
        "print(\"accuracy score w/o PCA: \", accuracy_score(y_test, y_pred))\n",
        "print(confusion_matrix(y_test, y_pred))\n",
        "plot_roc_curve(x_test_sc, y_test, reg, \"Logistic Regression w/o PCA\")\n",
        "\n",
        "# With PCA\n",
        "reg_pca = LogisticRegression()\n",
        "reg_model = reg_pca.fit(x_train_pca, y_train)\n",
        "y_pred = reg_pca.predict(x_test_pca)\n",
        "print(\"accuracy score with PCA: \", accuracy_score(y_test, y_pred))\n",
        "print(confusion_matrix(y_test, y_pred))\n",
        "plot_roc_curve(x_test_pca, y_test, reg_pca, \"Logistic Regression with PCA\")"
      ],
      "metadata": {
        "colab": {
          "base_uri": "https://localhost:8080/",
          "height": 701
        },
        "id": "Y0dTcaFtmh5T",
        "outputId": "e33c68c1-d56e-4a81-a8b5-b1b52723aa5c"
      },
      "execution_count": null,
      "outputs": [
        {
          "output_type": "stream",
          "name": "stdout",
          "text": [
            "accuracy score w/o PCA:  0.9156024465596818\n",
            "[[144911   1310]\n",
            " [ 12185   1492]]\n"
          ]
        },
        {
          "output_type": "display_data",
          "data": {
            "text/plain": [
              "<Figure size 432x288 with 1 Axes>"
            ],
            "image/png": "[encoded data removed]"
          },
          "metadata": {
            "needs_background": "light"
          }
        },
        {
          "output_type": "stream",
          "name": "stdout",
          "text": [
            "accuracy score with PCA:  0.9148707300904326\n",
            "[[144851   1370]\n",
            " [ 12242   1435]]\n"
          ]
        },
        {
          "output_type": "display_data",
          "data": {
            "text/plain": [
              "<Figure size 432x288 with 1 Axes>"
            ],
            "image/png": "[encoded data removed]"
          },
          "metadata": {
            "needs_background": "light"
          }
        },
        {
          "output_type": "display_data",
          "data": {
            "text/plain": [
              "<Figure size 432x288 with 0 Axes>"
            ]
          },
          "metadata": {}
        }
      ]
    },
    {
      "cell_type": "markdown",
      "source": [
        "We see here that PCA does not help with analysis since it only removes 3 features and decreases interpretability. \n",
        "We will proceed without PCA to aid in interpretability."
      ],
      "metadata": {
        "id": "fTO3LCT1oG3r"
      }
    },
    {
      "cell_type": "markdown",
      "source": [
        "## Data Balance\n",
        "\n",
        "It's wellknown that Health Data often imbalanced favoring healthy participants."
      ],
      "metadata": {
        "id": "W4-xN4V9cGHA"
      }
    },
    {
      "cell_type": "code",
      "source": [
        "grouped_heart_disease = heart_disease_df.groupby('HeartDisease')[\"BMI\"].count()\n",
        "print(grouped_heart_disease)"
      ],
      "metadata": {
        "colab": {
          "base_uri": "https://localhost:8080/"
        },
        "id": "dYmqjxJdms3R",
        "outputId": "61e382e9-cc09-4f27-eb53-a75a86fae63e"
      },
      "execution_count": null,
      "outputs": [
        {
          "output_type": "stream",
          "name": "stdout",
          "text": [
            "HeartDisease\n",
            "0.0    292422\n",
            "1.0     27373\n",
            "Name: BMI, dtype: int64\n"
          ]
        }
      ]
    },
    {
      "cell_type": "markdown",
      "source": [
        "We see that non-heart disease has over 10x more data points. We will under and over sample to account for this."
      ],
      "metadata": {
        "id": "1cFKFshUoVFG"
      }
    },
    {
      "cell_type": "code",
      "source": [
        "#Undersampling WITH SC DATA\n",
        "rus = RandomUnderSampler(random_state=1)\n",
        "x_rus, y_rus = rus.fit_resample(x_train_sc, y_train)\n",
        "x_test_rus, y_test_rus = rus.fit_resample(x_test_sc, y_test)\n",
        "\n",
        "\n",
        "#Oversampling\n",
        "ros = RandomOverSampler(random_state=1)\n",
        "x_ros, y_ros = ros.fit_resample(x_train_sc, y_train)\n",
        "x_test_ros, y_test_ros = ros.fit_resample(x_test_sc, y_test)"
      ],
      "metadata": {
        "id": "8V-uzEe9myoK"
      },
      "execution_count": null,
      "outputs": []
    },
    {
      "cell_type": "code",
      "source": [
        "#Logistic Regression \n",
        "\n",
        "# Undersample\n",
        "reg = LogisticRegression()\n",
        "reg_model = reg.fit(x_rus, y_rus)\n",
        "y_pred = reg.predict(x_test_rus)\n",
        "print(\"accuracy score undersample: \", accuracy_score(y_test_rus, y_pred))\n",
        "print(confusion_matrix(y_test_rus, y_pred))\n",
        "plot_roc_curve(x_test_rus, y_test_rus, reg, \"Logistic Regression with undersampling\")\n",
        "\n",
        "# Oversample\n",
        "reg = LogisticRegression()\n",
        "reg_model = reg.fit(x_ros, y_ros)\n",
        "y_pred = reg.predict(x_test_ros)\n",
        "print(\"accuracy score oversample: \", accuracy_score(y_test_ros, y_pred))\n",
        "print(confusion_matrix(y_test_ros, y_pred))\n",
        "plot_roc_curve(x_test_ros, y_test_ros, reg, \"Logistic Regression with oversampling\")"
      ],
      "metadata": {
        "colab": {
          "base_uri": "https://localhost:8080/",
          "height": 701
        },
        "id": "Yy0-zhqqnG0h",
        "outputId": "09dc9d49-8d6f-4691-9b3e-23de15df5c40"
      },
      "execution_count": null,
      "outputs": [
        {
          "output_type": "stream",
          "name": "stdout",
          "text": [
            "accuracy score undersample:  0.7655553118373912\n",
            "[[10307  3370]\n",
            " [ 3043 10634]]\n"
          ]
        },
        {
          "output_type": "display_data",
          "data": {
            "text/plain": [
              "<Figure size 432x288 with 1 Axes>"
            ],
            "image/png": "[encoded data removed]"
          },
          "metadata": {
            "needs_background": "light"
          }
        },
        {
          "output_type": "stream",
          "name": "stdout",
          "text": [
            "accuracy score oversample:  0.7639189993229427\n",
            "[[109683  36538]\n",
            " [ 32502 113719]]\n"
          ]
        },
        {
          "output_type": "display_data",
          "data": {
            "text/plain": [
              "<Figure size 432x288 with 1 Axes>"
            ],
            "image/png": "[encoded data removed]"
          },
          "metadata": {
            "needs_background": "light"
          }
        },
        {
          "output_type": "display_data",
          "data": {
            "text/plain": [
              "<Figure size 432x288 with 0 Axes>"
            ]
          },
          "metadata": {}
        }
      ]
    },
    {
      "cell_type": "markdown",
      "source": [
        "Both under and over sampling are roughly the same and undersampling outperforms slightly. We will go with undersampling for the rest of our analyses."
      ],
      "metadata": {
        "id": "RJx1tAVnpHic"
      }
    },
    {
      "cell_type": "markdown",
      "source": [
        "Let's do some k-means clustering for fun"
      ],
      "metadata": {
        "id": "ATB9QLLygOWo"
      }
    },
    {
      "cell_type": "code",
      "source": [
        "#Apply K-Means Clustering\n",
        "\n",
        "km = KMeans(n_clusters=2, n_init=1, max_iter=300, random_state=0)\n",
        "km.fit(x_rus)\n",
        "y_pred_km = km.predict(x_test_rus)\n",
        "print(\"accuracy score: \", accuracy_score(y_test_rus, y_pred_km))\n",
        "print(confusion_matrix(y_test_rus, y_pred_km))\n"
      ],
      "metadata": {
        "colab": {
          "base_uri": "https://localhost:8080/"
        },
        "id": "1sWpkJ4dr25f",
        "outputId": "3a311e65-c183-41e5-ed34-d491cfccc7d8"
      },
      "execution_count": null,
      "outputs": [
        {
          "output_type": "stream",
          "name": "stdout",
          "text": [
            "accuracy score:  0.6572713314323316\n",
            "[[12057  1620]\n",
            " [ 7755  5922]]\n"
          ]
        }
      ]
    },
    {
      "cell_type": "markdown",
      "source": [
        "Accuracy for basic K-means with 2 clusters is poor. Let's try some advanced K-means analysis to improve accuracy"
      ],
      "metadata": {
        "id": "QJrXmz7-g0-0"
      }
    },
    {
      "cell_type": "code",
      "source": [
        "distortions = []\n",
        "max_k = 30\n",
        "for i in range(1, max_k+1):\n",
        "    km = KMeans(n_clusters=i, init='random', n_init=1, max_iter=300, random_state=1)\n",
        "    km.fit(x_rus)\n",
        "    distortions.append(km.inertia_)\n",
        "plt.plot(range(1,max_k+1),distortions,marker='o')"
      ],
      "metadata": {
        "colab": {
          "base_uri": "https://localhost:8080/",
          "height": 283
        },
        "id": "Ea_1R119gukd",
        "outputId": "815776dc-7d2c-4830-d3e9-ebf4dc2c3368"
      },
      "execution_count": null,
      "outputs": [
        {
          "output_type": "execute_result",
          "data": {
            "text/plain": [
              "[<matplotlib.lines.Line2D at 0x7f7f95fb1820>]"
            ]
          },
          "metadata": {},
          "execution_count": 77
        },
        {
          "output_type": "display_data",
          "data": {
            "text/plain": [
              "<Figure size 432x288 with 1 Axes>"
            ],
            "image/png": "[encoded data removed]"
          },
          "metadata": {
            "needs_background": "light"
          }
        }
      ]
    },
    {
      "cell_type": "markdown",
      "source": [
        "It seems that distortion flattens out breifly around 19 clusters. This is far from the initial 2 clusters that we intended for the binary classification. Since logistic regression outperforms k-means clustering, lets stick with supervised learning."
      ],
      "metadata": {
        "id": "4vEz8UPEgno8"
      }
    },
    {
      "cell_type": "markdown",
      "source": [
        "## Logistic Regression (Regularized)\n",
        "\n",
        "Let's add some Regularization to account for potential multicolinearity and/or overfitting"
      ],
      "metadata": {
        "id": "k33HDY0_fG0S"
      }
    },
    {
      "cell_type": "code",
      "source": [
        "# Let's add LASSO/L1 penalty to our logictic regression model\n",
        "lasso = LogisticRegression(penalty='elasticnet', solver='saga', C=0.0005, l1_ratio=1)\n",
        "lasso.fit(x_rus, y_rus)\n",
        "y_pred1 = lasso.predict(x_test_rus)\n",
        "print(\"accuracy score for Lasso/L1 Logistic Regression: \", accuracy_score(y_test_rus, y_pred1))\n",
        "print(confusion_matrix(y_test_rus, y_pred1))\n",
        "plot_roc_curve(x_test_rus, y_test_rus, lasso, \"Lasso/L1 Logistic Regression\")\n",
        "\n",
        "for i in range(len(features.columns)):\n",
        "  print(features.columns[i], lasso.coef_[0][i])"
      ],
      "metadata": {
        "colab": {
          "base_uri": "https://localhost:8080/",
          "height": 769
        },
        "id": "TPgGr4OvmYr-",
        "outputId": "bcc9c6a8-8909-4cf0-88d2-a77423a3e08f"
      },
      "execution_count": null,
      "outputs": [
        {
          "output_type": "stream",
          "name": "stdout",
          "text": [
            "accuracy score for Lasso/L1 Logistic Regression:  0.7462528332236602\n",
            "[[ 9887  3790]\n",
            " [ 3151 10526]]\n"
          ]
        },
        {
          "output_type": "display_data",
          "data": {
            "text/plain": [
              "<Figure size 432x288 with 1 Axes>"
            ],
            "image/png": "[encoded data removed]"
          },
          "metadata": {
            "needs_background": "light"
          }
        },
        {
          "output_type": "stream",
          "name": "stdout",
          "text": [
            "BMI 0.0\n",
            "Smoking 0.0\n",
            "AlcoholDrinking 0.0\n",
            "Stroke 0.08347120711174874\n",
            "PhysicalHealth 0.0\n",
            "MentalHealth 0.0\n",
            "DiffWalking 0.016054189424482005\n",
            "Diabetic 0.036124313372562944\n",
            "PhysicalActivity 0.0\n",
            "SleepTime 0.0\n",
            "Asthma 0.0\n",
            "KidneyDisease 0.0\n",
            "SkinCancer 0.0\n",
            "Race_American Indian/Alaskan Native 0.0\n",
            "Race_Asian 0.0\n",
            "Race_Black 0.0\n",
            "Race_Hispanic 0.0\n",
            "Race_Other 0.0\n",
            "Race_White 0.0\n",
            "general_health_factor -0.38752869376472215\n",
            "age_factor 0.5309430925315385\n",
            "sex_factor 0.0\n"
          ]
        },
        {
          "output_type": "display_data",
          "data": {
            "text/plain": [
              "<Figure size 432x288 with 0 Axes>"
            ]
          },
          "metadata": {}
        }
      ]
    },
    {
      "cell_type": "code",
      "source": [
        "# Let's add Ridge/L12 penalty to our logictic regression model\n",
        "ridge = LogisticRegression(penalty='elasticnet', solver='saga', C=0.5, l1_ratio=0)\n",
        "ridge.fit(x_rus, y_rus)\n",
        "y_pred2 = ridge.predict(x_test_rus)\n",
        "print(\"accuracy score for Ridge/L2 Logistic Regression: \", accuracy_score(y_test_rus, y_pred2))\n",
        "print(confusion_matrix(y_test_rus, y_pred2))\n",
        "\n",
        "plot_roc_curve(x_test_rus, y_test_rus, ridge, \"Ridge/L2 Logistic Regression\")\n",
        "\n",
        "for i in range(len(features.columns)):\n",
        "  print(features.columns[i], ridge.coef_[0][i])"
      ],
      "metadata": {
        "colab": {
          "base_uri": "https://localhost:8080/",
          "height": 769
        },
        "id": "5x8mrGXjrk6P",
        "outputId": "a2cf6030-c615-4dc9-8257-9da61a1e749c"
      },
      "execution_count": null,
      "outputs": [
        {
          "output_type": "stream",
          "name": "stdout",
          "text": [
            "accuracy score for Ridge/L2 Logistic Regression:  0.7655187541127441\n",
            "[[10307  3370]\n",
            " [ 3044 10633]]\n"
          ]
        },
        {
          "output_type": "display_data",
          "data": {
            "text/plain": [
              "<Figure size 432x288 with 1 Axes>"
            ],
            "image/png": "[encoded data removed]"
          },
          "metadata": {
            "needs_background": "light"
          }
        },
        {
          "output_type": "stream",
          "name": "stdout",
          "text": [
            "BMI 0.0449034527039767\n",
            "Smoking 0.18330118902279913\n",
            "AlcoholDrinking -0.058391136863446\n",
            "Stroke 0.22793999497703246\n",
            "PhysicalHealth 0.0372117225724188\n",
            "MentalHealth 0.047761613510079196\n",
            "DiffWalking 0.0874427593059962\n",
            "Diabetic 0.1587382272863582\n",
            "PhysicalActivity 0.02229963825914533\n",
            "SleepTime -0.045615920145821456\n",
            "Asthma 0.09925404648780074\n",
            "KidneyDisease 0.10937890226325704\n",
            "SkinCancer 0.032942741223476686\n",
            "Race_American Indian/Alaskan Native 0.015240360138762917\n",
            "Race_Asian -0.05194857060544307\n",
            "Race_Black -0.028550169438177044\n",
            "Race_Hispanic 0.009890089894188185\n",
            "Race_Other 0.016129313068291552\n",
            "Race_White 0.018719456665641804\n",
            "general_health_factor -0.5535807311395233\n",
            "age_factor 1.035548850230788\n",
            "sex_factor -0.3927782958773654\n"
          ]
        },
        {
          "output_type": "display_data",
          "data": {
            "text/plain": [
              "<Figure size 432x288 with 0 Axes>"
            ]
          },
          "metadata": {}
        }
      ]
    },
    {
      "cell_type": "code",
      "source": [
        "\n",
        "# Let's add Elastic Net penalty to our logictic regression model\n",
        "elastic = LogisticRegression(penalty='elasticnet', solver='saga', C=0.002, l1_ratio=0.3)\n",
        "elastic.fit(x_rus, y_rus)\n",
        "y_pred3 = elastic.predict(x_test_rus)\n",
        "print(\"accuracy score for Elastic Net Logistic Regression: \", accuracy_score(y_test_rus, y_pred3))\n",
        "print(confusion_matrix(y_test_rus, y_pred3))\n",
        "plot_roc_curve(x_test_rus, y_test_rus, elastic, \"Logistic Regression with Elastic Net\")\n",
        "\n",
        "for i in range(len(features.columns)):\n",
        "  print(features.columns[i], elastic.coef_[0][i])\n"
      ],
      "metadata": {
        "colab": {
          "base_uri": "https://localhost:8080/",
          "height": 769
        },
        "id": "2DHvA8KWoxK1",
        "outputId": "3c9d6512-ca6e-4cf6-9d68-0cad48a0b19a"
      },
      "execution_count": null,
      "outputs": [
        {
          "output_type": "stream",
          "name": "stdout",
          "text": [
            "accuracy score for Elastic Net Logistic Regression:  0.763325290633911\n",
            "[[10360  3317]\n",
            " [ 3157 10520]]\n"
          ]
        },
        {
          "output_type": "display_data",
          "data": {
            "text/plain": [
              "<Figure size 432x288 with 1 Axes>"
            ],
            "image/png": "[encoded data removed]"
          },
          "metadata": {
            "needs_background": "light"
          }
        },
        {
          "output_type": "stream",
          "name": "stdout",
          "text": [
            "BMI 0.010173815754049449\n",
            "Smoking 0.15443935538700793\n",
            "AlcoholDrinking -0.023636282706349012\n",
            "Stroke 0.2034037492831298\n",
            "PhysicalHealth 0.04877773449439946\n",
            "MentalHealth 0.0013861867544778957\n",
            "DiffWalking 0.09838215585688079\n",
            "Diabetic 0.15200477529469358\n",
            "PhysicalActivity 0.0\n",
            "SleepTime -0.007730283070539451\n",
            "Asthma 0.05827281019454291\n",
            "KidneyDisease 0.0979086710578269\n",
            "SkinCancer 0.036764743694097254\n",
            "Race_American Indian/Alaskan Native 0.0\n",
            "Race_Asian -0.011800705528607807\n",
            "Race_Black -0.0027319959960896856\n",
            "Race_Hispanic 0.0\n",
            "Race_Other 0.0\n",
            "Race_White 0.006535812889671291\n",
            "general_health_factor -0.4942701094864675\n",
            "age_factor 0.8466336770131244\n",
            "sex_factor -0.3130095056927777\n"
          ]
        },
        {
          "output_type": "display_data",
          "data": {
            "text/plain": [
              "<Figure size 432x288 with 0 Axes>"
            ]
          },
          "metadata": {}
        }
      ]
    },
    {
      "cell_type": "markdown",
      "source": [
        "We saw with PCA that we have little multicolinearity. As expected, regularizing our logistic regressions did not add much."
      ],
      "metadata": {
        "id": "h-w1WvZ8fl7u"
      }
    },
    {
      "cell_type": "markdown",
      "source": [
        "Now let's try some other classifiers and compare the results"
      ],
      "metadata": {
        "id": "7HK7IOJui6Ud"
      }
    },
    {
      "cell_type": "markdown",
      "source": [
        "## Decision Tree Classifier\n"
      ],
      "metadata": {
        "id": "OLYriFI7hn_j"
      }
    },
    {
      "cell_type": "code",
      "source": [
        "#Decision Tree Classifier\n",
        "\n",
        "clf = tree.DecisionTreeClassifier(criterion='entropy')\n",
        "clf=clf.fit(x_rus, y_rus)\n",
        "y_pred_decTree = clf.predict(x_test_rus)\n",
        "#tree.plot_tree(clf)\n",
        "print(\"accuracy score for Decision Tree CLassifier: \", accuracy_score(y_test_rus, y_pred_decTree))\n",
        "\n",
        "print(confusion_matrix(y_test_rus, y_pred_decTree))\n",
        "\n",
        "plot_roc_curve(x_test_rus, y_test_rus, clf, \"Decision Tree Classifier\")\n",
        "\n"
      ],
      "metadata": {
        "colab": {
          "base_uri": "https://localhost:8080/",
          "height": 368
        },
        "id": "Ixb77KSCsinu",
        "outputId": "f687eb13-3bb3-4c09-ff64-df4f85792b5d"
      },
      "execution_count": null,
      "outputs": [
        {
          "output_type": "stream",
          "name": "stdout",
          "text": [
            "accuracy score for Decision Tree CLassifier:  0.6716019594940411\n",
            "[[9269 4408]\n",
            " [4575 9102]]\n"
          ]
        },
        {
          "output_type": "display_data",
          "data": {
            "text/plain": [
              "<Figure size 432x288 with 1 Axes>"
            ],
            "image/png": "[encoded data removed]"
          },
          "metadata": {
            "needs_background": "light"
          }
        },
        {
          "output_type": "display_data",
          "data": {
            "text/plain": [
              "<Figure size 432x288 with 0 Axes>"
            ]
          },
          "metadata": {}
        }
      ]
    },
    {
      "cell_type": "markdown",
      "source": [
        "The Decision Tree Classifier does slighly worse"
      ],
      "metadata": {
        "id": "LKT3Fq6-imxK"
      }
    },
    {
      "cell_type": "markdown",
      "source": [
        "## Adaptive Boosting"
      ],
      "metadata": {
        "id": "sQbzaOGOitqC"
      }
    },
    {
      "cell_type": "code",
      "source": [
        "tree = tree.DecisionTreeClassifier(criterion='entropy')\n",
        "abc = AdaBoostClassifier(base_estimator=tree,n_estimators=10, learning_rate=0.1, random_state=0)\n",
        "abc.fit(x_rus, y_rus)\n",
        "\n",
        "y_pred_abc = abc.predict(x_test_rus)\n",
        "print(\"accuracy score: \", accuracy_score(y_test_rus, y_pred_abc))\n",
        "\n",
        "print(confusion_matrix(y_test_rus, y_pred_abc))\n",
        "plot_roc_curve(x_test_rus, y_test_rus, abc, \"Adaptive Boosting\")"
      ],
      "metadata": {
        "id": "azPQDEcCyV-l",
        "colab": {
          "base_uri": "https://localhost:8080/",
          "height": 368
        },
        "outputId": "ceaa375f-c0d0-450b-d0f6-0a4493c828bc"
      },
      "execution_count": null,
      "outputs": [
        {
          "output_type": "stream",
          "name": "stdout",
          "text": [
            "accuracy score:  0.7015061782554654\n",
            "[[10050  3627]\n",
            " [ 4538  9139]]\n"
          ]
        },
        {
          "output_type": "display_data",
          "data": {
            "text/plain": [
              "<Figure size 432x288 with 1 Axes>"
            ],
            "image/png": "[encoded data removed]"
          },
          "metadata": {
            "needs_background": "light"
          }
        },
        {
          "output_type": "display_data",
          "data": {
            "text/plain": [
              "<Figure size 432x288 with 0 Axes>"
            ]
          },
          "metadata": {}
        }
      ]
    },
    {
      "cell_type": "markdown",
      "source": [
        "We see further improvement in our modeling "
      ],
      "metadata": {
        "id": "BUA5jkl2jH53"
      }
    },
    {
      "cell_type": "markdown",
      "source": [
        "## Random Forest Classifier"
      ],
      "metadata": {
        "id": "XTysSzytjU8p"
      }
    },
    {
      "cell_type": "code",
      "source": [
        "rand_forest = RandomForestClassifier(max_depth= 20, random_state = 20)\n",
        "rand_forest.fit(x_rus, y_rus)\n",
        "rand_y_pred = rand_forest.predict(x_test_rus)\n",
        "print(\"accuracy score for random Forest : \", accuracy_score(y_test_rus, rand_y_pred))\n",
        "\n",
        "print(confusion_matrix(y_test_rus, rand_y_pred))\n",
        "plot_roc_curve(x_test_rus, y_test_rus, rand_forest, \"Random Forest\")"
      ],
      "metadata": {
        "colab": {
          "base_uri": "https://localhost:8080/",
          "height": 368
        },
        "id": "yzUVYyHPtKFG",
        "outputId": "6c445ffd-d5ef-40bb-c82c-0dfe922486ed"
      },
      "execution_count": null,
      "outputs": [
        {
          "output_type": "stream",
          "name": "stdout",
          "text": [
            "accuracy score for random Forest :  0.7564158806755867\n",
            "[[ 9877  3800]\n",
            " [ 2863 10814]]\n"
          ]
        },
        {
          "output_type": "display_data",
          "data": {
            "text/plain": [
              "<Figure size 432x288 with 1 Axes>"
            ],
            "image/png": "[encoded data removed]"
          },
          "metadata": {
            "needs_background": "light"
          }
        },
        {
          "output_type": "display_data",
          "data": {
            "text/plain": [
              "<Figure size 432x288 with 0 Axes>"
            ]
          },
          "metadata": {}
        }
      ]
    },
    {
      "cell_type": "markdown",
      "source": [
        "Let's try improving the accuracy by limiting the depth of the tree"
      ],
      "metadata": {
        "id": "EG3aa6gcjnES"
      }
    },
    {
      "cell_type": "code",
      "source": [
        "accuracies = []\n",
        "max_depth = 20\n",
        "for i in range(1, max_depth+1):\n",
        "    clf = RandomForestClassifier(max_depth=i, random_state=1)\n",
        "    clf=clf.fit(x_rus, y_rus)\n",
        "    y_pred_decTree = clf.predict(x_test_rus)\n",
        "    accuracies.append(accuracy_score(y_test_rus, y_pred_decTree))\n",
        "plt.plot(range(1,max_depth+1),accuracies,marker='o')\n",
        "\n",
        "print(accuracies.index(max(accuracies)), max(accuracies))"
      ],
      "metadata": {
        "id": "IcdBOf5RxWgP",
        "colab": {
          "base_uri": "https://localhost:8080/",
          "height": 283
        },
        "outputId": "f57b1b78-80d8-4bdd-9164-10850fc3e979"
      },
      "execution_count": null,
      "outputs": [
        {
          "output_type": "stream",
          "name": "stdout",
          "text": [
            "8 0.7649338305183885\n"
          ]
        },
        {
          "output_type": "display_data",
          "data": {
            "text/plain": [
              "<Figure size 432x288 with 1 Axes>"
            ],
            "image/png": "[encoded data removed]"
          },
          "metadata": {
            "needs_background": "light"
          }
        }
      ]
    },
    {
      "cell_type": "markdown",
      "source": [
        "Looks like the accuracy declines after max depth of 15."
      ],
      "metadata": {
        "id": "idh06eC2kD_e"
      }
    },
    {
      "cell_type": "code",
      "source": [
        "# We use the best params based on our depth analysis\n",
        "rand_for_class_best = RandomForestClassifier(max_depth= 15, random_state = 20)\n",
        "rand_for_class_best.fit(x_rus, y_rus)\n",
        "rand_y_pred = rand_for_class_best.predict(x_test_rus)\n",
        "print(\"accuracy score for random Forest : \", accuracy_score(y_test_rus, rand_y_pred))\n",
        "\n",
        "print(confusion_matrix(y_test_rus, rand_y_pred))\n",
        "plot_roc_curve(x_test_rus, y_test_rus, rand_for_class_best, \"Random Forest\")"
      ],
      "metadata": {
        "id": "47ae1sHcxo_l",
        "colab": {
          "base_uri": "https://localhost:8080/",
          "height": 368
        },
        "outputId": "f87317de-5305-4f07-ab1f-def69fb0b930"
      },
      "execution_count": null,
      "outputs": [
        {
          "output_type": "stream",
          "name": "stdout",
          "text": [
            "accuracy score for random Forest :  0.7628865979381443\n",
            "[[ 9943  3734]\n",
            " [ 2752 10925]]\n"
          ]
        },
        {
          "output_type": "display_data",
          "data": {
            "text/plain": [
              "<Figure size 432x288 with 1 Axes>"
            ],
            "image/png": "[encoded data removed]"
          },
          "metadata": {
            "needs_background": "light"
          }
        },
        {
          "output_type": "display_data",
          "data": {
            "text/plain": [
              "<Figure size 432x288 with 0 Axes>"
            ]
          },
          "metadata": {}
        }
      ]
    },
    {
      "cell_type": "markdown",
      "source": [
        "## Support Vector Machine "
      ],
      "metadata": {
        "id": "4zQmX4cclCM9"
      }
    },
    {
      "cell_type": "code",
      "source": [
        "#c = 1, gamma = 1, 71%, 7 mins to run\n",
        "\n",
        "\n",
        "svc = svm.SVC(C=1, kernel='rbf',gamma=1, random_state=42)\n",
        "svc.fit(x_rus,y_rus)\n",
        "y_pred_svm = svc.predict(x_test_rus)\n",
        "print(\"accuracy score for Support Vecotr Machines : \", accuracy_score(y_test_rus, y_pred_svm))\n",
        "\n",
        "print(confusion_matrix(y_test_rus, y_pred_svm))\n"
      ],
      "metadata": {
        "id": "xpmcfuTxhwmi",
        "colab": {
          "base_uri": "https://localhost:8080/"
        },
        "outputId": "4b16ae5a-c8b5-464f-e5c6-e77cec38a814"
      },
      "execution_count": null,
      "outputs": [
        {
          "output_type": "stream",
          "name": "stdout",
          "text": [
            "accuracy score for Support Vecotr Machines :  0.710499378518681\n",
            "[[ 8049  5628]\n",
            " [ 2291 11386]]\n"
          ]
        }
      ]
    },
    {
      "cell_type": "markdown",
      "source": [
        "## Forward Stepwise Model Selection with Random Forests\n",
        "\n",
        "Let's take a look how well different subsets of our features work. We will use the forward stepwise technique which is a greedy algorithm. It start with 1 feature and works its way up to n=k features picking the feature which most increases the prediction accuracy next. We chose random forests as they performed the best and run quickly.\n",
        "\n",
        "This analysis only adds to our understanding of the data if we do not transform it via PCA first."
      ],
      "metadata": {
        "id": "dEwN3RtZlT-7"
      }
    },
    {
      "cell_type": "code",
      "source": [
        "def one_round_forward(feature_list, chosen_cols, labels, dataframe):\n",
        "    feature_history = []\n",
        "    for i in range(len(feature_list)):\n",
        "        #build new dataframe\n",
        "        current_model = chosen_cols.copy()\n",
        "        current_model.append(feature_list[i])\n",
        "        next_model_features = dataframe[current_model]\n",
        "\n",
        "        #split up data\n",
        "        x_train_fsm, x_test_fsm, y_train_fsm, y_test_fsm = train_test_split(next_model_features, labels, train_size = 0.8, test_size = 0.2, random_state = 42)\n",
        "\n",
        "        #scale the data\n",
        "        sc = StandardScaler()\n",
        "        sc.fit(x_train_fsm)\n",
        "        x_train_fsm_sc = sc.transform(x_train_fsm)\n",
        "        x_test_fsm_sc = sc.transform(x_test_fsm)\n",
        "\n",
        "        #fix sample sizing\n",
        "        rus = RandomUnderSampler(random_state=1)\n",
        "        x_fsm_rus, y_fsm_rus = rus.fit_resample(x_train_fsm_sc, y_train_fsm)\n",
        "        x_test_fsm_rus, y_test_fsm_rus = rus.fit_resample(x_test_fsm_sc, y_test_fsm)\n",
        "\n",
        "        #run random forest classifier\n",
        "        rand_for_class_best = RandomForestClassifier(max_depth= 11, random_state = 20)\n",
        "        rand_for_class_best.fit(x_fsm_rus, y_fsm_rus)\n",
        "        rand_y_pred = rand_for_class_best.predict(x_test_fsm_rus)\n",
        "\n",
        "        #store data\n",
        "        feature_history.append((accuracy_score(y_test_fsm_rus, rand_y_pred), feature_list[i]))\n",
        "\n",
        "    best_feat = max(feature_history)\n",
        "    return best_feat[1], best_feat[0]\n",
        "\n",
        "\n",
        "def full_forward(feature_list, labels, vkp_copy):\n",
        "    \n",
        "    cols_remaining = feature_list.copy()\n",
        "    chosen_cols = []\n",
        "    round_best = []\n",
        "    \n",
        "    for i in range(len(feature_list)):\n",
        "        best_feat, accuracy = one_round_forward(cols_remaining, chosen_cols, labels, vkp_copy)     \n",
        "        chosen_cols.append(best_feat)\n",
        "        print(chosen_cols, accuracy)\n",
        "        round_best.append((accuracy, chosen_cols))\n",
        "        cols_remaining = list(set(cols_remaining) - set([best_feat]))\n",
        "        \n",
        "    return round_best\n"
      ],
      "metadata": {
        "id": "MEUDSqwfwYyI"
      },
      "execution_count": null,
      "outputs": []
    },
    {
      "cell_type": "code",
      "source": [
        "\n",
        "feature_list = ['BMI', 'Smoking', 'AlcoholDrinking', 'Stroke',\n",
        "       'PhysicalHealth', 'MentalHealth', 'DiffWalking', 'Diabetic',\n",
        "       'PhysicalActivity', 'SleepTime', 'Asthma', 'KidneyDisease',\n",
        "       'SkinCancer', 'Race_American Indian/Alaskan Native', 'Race_Asian',\n",
        "       'Race_Black', 'Race_Hispanic', 'Race_Other', 'Race_White',\n",
        "       'general_health_factor', 'age_factor', 'sex_factor']\n",
        "labels = heart_disease_df['HeartDisease']\n",
        "\n",
        "\n",
        "#Runtime is about 6 minutes\n",
        "\n",
        "models = full_forward(feature_list, labels, heart_disease_df)"
      ],
      "metadata": {
        "id": "EyfCdLUy1Srl",
        "colab": {
          "base_uri": "https://localhost:8080/"
        },
        "outputId": "66661370-203c-4a2e-887f-9ceffe74b842"
      },
      "execution_count": null,
      "outputs": [
        {
          "output_type": "stream",
          "name": "stdout",
          "text": [
            "['age_factor'] 0.6863376251788269\n",
            "['age_factor', 'general_health_factor'] 0.7398962804005722\n",
            "['age_factor', 'general_health_factor', 'sex_factor'] 0.7491952789699571\n",
            "['age_factor', 'general_health_factor', 'sex_factor', 'Stroke'] 0.7572424892703863\n",
            "['age_factor', 'general_health_factor', 'sex_factor', 'Stroke', 'Race_White'] 0.7594778254649499\n",
            "['age_factor', 'general_health_factor', 'sex_factor', 'Stroke', 'Race_White', 'Race_Asian'] 0.7599248927038627\n",
            "['age_factor', 'general_health_factor', 'sex_factor', 'Stroke', 'Race_White', 'Race_Asian', 'KidneyDisease'] 0.7602825464949928\n",
            "['age_factor', 'general_health_factor', 'sex_factor', 'Stroke', 'Race_White', 'Race_Asian', 'KidneyDisease', 'Asthma'] 0.7612660944206009\n",
            "['age_factor', 'general_health_factor', 'sex_factor', 'Stroke', 'Race_White', 'Race_Asian', 'KidneyDisease', 'Asthma', 'Race_Black'] 0.7614449213161659\n",
            "['age_factor', 'general_health_factor', 'sex_factor', 'Stroke', 'Race_White', 'Race_Asian', 'KidneyDisease', 'Asthma', 'Race_Black', 'Race_Other'] 0.7616237482117311\n",
            "['age_factor', 'general_health_factor', 'sex_factor', 'Stroke', 'Race_White', 'Race_Asian', 'KidneyDisease', 'Asthma', 'Race_Black', 'Race_Other', 'Race_Hispanic'] 0.7628755364806867\n",
            "['age_factor', 'general_health_factor', 'sex_factor', 'Stroke', 'Race_White', 'Race_Asian', 'KidneyDisease', 'Asthma', 'Race_Black', 'Race_Other', 'Race_Hispanic', 'Race_American Indian/Alaskan Native'] 0.7615343347639485\n",
            "['age_factor', 'general_health_factor', 'sex_factor', 'Stroke', 'Race_White', 'Race_Asian', 'KidneyDisease', 'Asthma', 'Race_Black', 'Race_Other', 'Race_Hispanic', 'Race_American Indian/Alaskan Native', 'AlcoholDrinking'] 0.7616237482117311\n",
            "['age_factor', 'general_health_factor', 'sex_factor', 'Stroke', 'Race_White', 'Race_Asian', 'KidneyDisease', 'Asthma', 'Race_Black', 'Race_Other', 'Race_Hispanic', 'Race_American Indian/Alaskan Native', 'AlcoholDrinking', 'Smoking'] 0.7623390557939914\n",
            "['age_factor', 'general_health_factor', 'sex_factor', 'Stroke', 'Race_White', 'Race_Asian', 'KidneyDisease', 'Asthma', 'Race_Black', 'Race_Other', 'Race_Hispanic', 'Race_American Indian/Alaskan Native', 'AlcoholDrinking', 'Smoking', 'Diabetic'] 0.7630543633762518\n",
            "['age_factor', 'general_health_factor', 'sex_factor', 'Stroke', 'Race_White', 'Race_Asian', 'KidneyDisease', 'Asthma', 'Race_Black', 'Race_Other', 'Race_Hispanic', 'Race_American Indian/Alaskan Native', 'AlcoholDrinking', 'Smoking', 'Diabetic', 'DiffWalking'] 0.7656473533619457\n",
            "['age_factor', 'general_health_factor', 'sex_factor', 'Stroke', 'Race_White', 'Race_Asian', 'KidneyDisease', 'Asthma', 'Race_Black', 'Race_Other', 'Race_Hispanic', 'Race_American Indian/Alaskan Native', 'AlcoholDrinking', 'Smoking', 'Diabetic', 'DiffWalking', 'SleepTime'] 0.7656473533619457\n",
            "['age_factor', 'general_health_factor', 'sex_factor', 'Stroke', 'Race_White', 'Race_Asian', 'KidneyDisease', 'Asthma', 'Race_Black', 'Race_Other', 'Race_Hispanic', 'Race_American Indian/Alaskan Native', 'AlcoholDrinking', 'Smoking', 'Diabetic', 'DiffWalking', 'SleepTime', 'SkinCancer'] 0.7669885550786838\n",
            "['age_factor', 'general_health_factor', 'sex_factor', 'Stroke', 'Race_White', 'Race_Asian', 'KidneyDisease', 'Asthma', 'Race_Black', 'Race_Other', 'Race_Hispanic', 'Race_American Indian/Alaskan Native', 'AlcoholDrinking', 'Smoking', 'Diabetic', 'DiffWalking', 'SleepTime', 'SkinCancer', 'PhysicalActivity'] 0.7649320457796852\n",
            "['age_factor', 'general_health_factor', 'sex_factor', 'Stroke', 'Race_White', 'Race_Asian', 'KidneyDisease', 'Asthma', 'Race_Black', 'Race_Other', 'Race_Hispanic', 'Race_American Indian/Alaskan Native', 'AlcoholDrinking', 'Smoking', 'Diabetic', 'DiffWalking', 'SleepTime', 'SkinCancer', 'PhysicalActivity', 'MentalHealth'] 0.7650214592274678\n",
            "['age_factor', 'general_health_factor', 'sex_factor', 'Stroke', 'Race_White', 'Race_Asian', 'KidneyDisease', 'Asthma', 'Race_Black', 'Race_Other', 'Race_Hispanic', 'Race_American Indian/Alaskan Native', 'AlcoholDrinking', 'Smoking', 'Diabetic', 'DiffWalking', 'SleepTime', 'SkinCancer', 'PhysicalActivity', 'MentalHealth', 'BMI'] 0.7625178826895566\n",
            "['age_factor', 'general_health_factor', 'sex_factor', 'Stroke', 'Race_White', 'Race_Asian', 'KidneyDisease', 'Asthma', 'Race_Black', 'Race_Other', 'Race_Hispanic', 'Race_American Indian/Alaskan Native', 'AlcoholDrinking', 'Smoking', 'Diabetic', 'DiffWalking', 'SleepTime', 'SkinCancer', 'PhysicalActivity', 'MentalHealth', 'BMI', 'PhysicalHealth'] 0.7617131616595136\n"
          ]
        }
      ]
    },
    {
      "cell_type": "markdown",
      "source": [
        "While all of the features do produce a pretty good model, we see great diminishing returns after only a few features were added to the random forest model. This suggests that with respect to random forest models, screening for heart disease may be as effective with many fewer features queried. "
      ],
      "metadata": {
        "id": "GBFytiYYnfxA"
      }
    },
    {
      "cell_type": "markdown",
      "source": [
        "## Nerual Network\n",
        "\n",
        "Now let's trying running our data through a binary classification neural net model"
      ],
      "metadata": {
        "id": "FQIs1MWL2fbc"
      }
    },
    {
      "cell_type": "markdown",
      "source": [
        "### Imports and setup for NN"
      ],
      "metadata": {
        "id": "rxC24yLmoiC6"
      }
    },
    {
      "cell_type": "code",
      "source": [
        "%%capture\n",
        "!pip3 install mxnet\n",
        "!pip3 install --upgrade gluoncv\n",
        "\n",
        "import mxnet as mx\n",
        "from gluoncv.utils import viz\n",
        "from mxnet.gluon.data import DataLoader\n",
        "from mxnet.gluon.data.vision import transforms, ImageFolderDataset\n",
        "from mxnet import np\n",
        "import shutil\n",
        "import os\n",
        "import glob\n",
        "import pandas as pd\n",
        "import seaborn as sns\n",
        "import cv2\n",
        "from mxnet import np, npx\n",
        "\n",
        "from mxnet import gluon, autograd, ndarray, nd\n",
        "from mxnet.gluon import nn, loss as gloss\n",
        "\n",
        "\n",
        "npx.set_np()\n",
        "npx.num_gpus()"
      ],
      "metadata": {
        "id": "smjsBZco1cYh"
      },
      "execution_count": null,
      "outputs": []
    },
    {
      "cell_type": "markdown",
      "source": [
        "### NN Implementation\n",
        "Transfrom data into proper type for mxnet"
      ],
      "metadata": {
        "id": "jDm1VpQSo9yU"
      }
    },
    {
      "cell_type": "code",
      "source": [
        "#train data\n",
        "y_rus_list = y_rus.tolist()\n",
        "input_data = []\n",
        "counter = 0\n",
        "\n",
        "# reshape and convert to nd array, place data and label in tuple then store in input array\n",
        "for i in range(len(x_rus)):\n",
        "    data = mx.nd.array(npy.reshape(npy.asarray(x_rus[counter], dtype = np.float32), (1, 22))).as_np_ndarray()\n",
        "    label = mx.nd.array(npy.reshape(npy.asarray(y_rus_list[counter], dtype = np.float32), (1, 1))).as_np_ndarray()\n",
        "    input_data.append((data, label))\n",
        "    counter+=1\n",
        "\n",
        "# shuffle train data\n",
        "IRuDS = input_data.copy()\n",
        "random.shuffle(IRuDS)\n",
        "\n",
        "\n",
        "# test data\n",
        "y_test_list = y_test_rus.tolist()\n",
        "test = []\n",
        "counter = 0\n",
        "\n",
        "# reshape and convert to nd array, place data and label in tuple then store in test array\n",
        "for i in range(len(x_test_rus)):\n",
        "    data = mx.nd.array(npy.reshape(npy.asarray(x_test_rus[counter], dtype = np.float32), (1, 22))).as_np_ndarray()\n",
        "    label = mx.nd.array(npy.reshape(npy.asarray(y_test_list[counter], dtype = np.float32), (1, 1))).as_np_ndarray()\n",
        "    test.append((data, label))\n",
        "    counter+=1\n",
        "\n"
      ],
      "metadata": {
        "id": "fZLEeYmD2ern"
      },
      "execution_count": null,
      "outputs": []
    },
    {
      "cell_type": "markdown",
      "source": [
        "Define train model. It returns the final training loss and the final training accuracy."
      ],
      "metadata": {
        "id": "BEDGDx_tpvL6"
      }
    },
    {
      "cell_type": "code",
      "source": [
        "\n",
        "# The function should return the final training loss and the final training accuracy\n",
        "def train_network(net, input_data, criterion, trainer, metric, epochs = 10):\n",
        "    \n",
        "\n",
        "    loss_history = []\n",
        "    accuracy_history = [0]\n",
        "    counter = 0\n",
        "    ac_counter = 0\n",
        "\n",
        "    for epoch in range(epochs):\n",
        "        metric.reset()\n",
        "\n",
        "        for i, (data, label) in enumerate(input_data):\n",
        "\n",
        "            data = data.as_in_context(ctx)\n",
        "            label = label.as_in_context(ctx)\n",
        "\n",
        "            with autograd.record():\n",
        "                pred = net(data)\n",
        "                loss = criterion(pred, label)\n",
        "            loss.backward()\n",
        "            trainer.step(1)\n",
        "            metric.update(label, pred.as_nd_ndarray())\n",
        "            # as the model did not improve past a few epoch, print every 5000 data points\n",
        "            if (i+1) % 5000 == 0:\n",
        "                print(\"Round: %s, Accuracy: %s, Loss: %s \" % (i, metric.get()[1],np.mean(loss)))\n",
        "                ac_counter+=1\n",
        "                \n",
        "\n",
        "        #store history for graphing later\n",
        "        accuracy_history.append(metric.get()[1])\n",
        "        loss_history.append(np.mean(loss))\n",
        "        ac_counter+=1\n",
        "\n",
        "        print(\"Epoch: %s, Accuracy: %s, Loss: %s\" % (epoch, accuracy_history[-1], loss_history[-1]))\n",
        "\n",
        "\n",
        "    final_training_accuracy = accuracy_history[-1] #Final training accuracy\n",
        "    final_training_loss = loss_history[-1] #Final training loss\n",
        "    return final_training_accuracy, float(final_training_loss), loss_history, accuracy_history"
      ],
      "metadata": {
        "id": "s-fiQBww37YO"
      },
      "execution_count": null,
      "outputs": []
    },
    {
      "cell_type": "markdown",
      "source": [
        "Define test model."
      ],
      "metadata": {
        "id": "JBgphwCdqI2y"
      }
    },
    {
      "cell_type": "code",
      "source": [
        "def test_model(net, criterion, test, metric):\n",
        "    \n",
        "    metric.reset()\n",
        "\n",
        "    for i, (data, label) in enumerate(test):\n",
        "        data = data.as_in_context(ctx)\n",
        "        label = label.as_in_context(ctx)\n",
        "        pred = net(data)\n",
        "        loss = criterion(pred, label)\n",
        "        metric.update(label, pred.as_nd_ndarray()) \n",
        "\n",
        "    testing_accuracy = metric.get()[1] #Final training accuracy\n",
        "    testing_loss = np.mean(loss) #Final training loss\n",
        "\n",
        "    return  float(testing_loss), float(testing_accuracy)"
      ],
      "metadata": {
        "id": "ll5GVOhr4FPg"
      },
      "execution_count": null,
      "outputs": []
    },
    {
      "cell_type": "markdown",
      "source": [
        "Here we contruct the network and add different size layers with some trial and error. "
      ],
      "metadata": {
        "id": "iXI22XjvrHMb"
      }
    },
    {
      "cell_type": "code",
      "source": [
        "def construct_net():\n",
        "    # Initialize a gluon sequential model\n",
        "    net = gluon.nn.Sequential()\n",
        "    with net.name_scope():\n",
        "      #Add a gluon dense layer to the model\n",
        "        net.add(gluon.nn.Dense(16, activation='relu'))\n",
        "        net.add(gluon.nn.Dense(5, activation='relu'))\n",
        "        net.add(gluon.nn.Dense(5, activation='relu'))\n",
        "        net.add(gluon.nn.Dense(5, activation='relu'))\n",
        "        net.add(gluon.nn.Dense(5, activation='relu'))\n",
        "        net.add(gluon.nn.Dense(5, activation='relu'))\n",
        "        net.add(gluon.nn.Dense(2))\n",
        "    return net\n",
        "\n",
        "net = construct_net()\n",
        "\n",
        "# Set the context to use the available GPUs, otherwise just use a CPU\n",
        "ctx =  mx.gpu() if mx.context.num_gpus() else mx.cpu()\n",
        "\n",
        "\n",
        "# initialize params\n",
        "net.collect_params().initialize(mx.init.Xavier(), ctx=ctx)\n",
        "\n",
        "#define loss\n",
        "criterion = gluon.loss.SoftmaxCrossEntropyLoss()\n",
        "\n",
        "#learning rate\n",
        "optimizer_params = {'learning_rate': 0.0005}\n",
        "trainer = gluon.Trainer(net.collect_params(), 'adam', optimizer_params)\n",
        "\n"
      ],
      "metadata": {
        "id": "BJp8wgl04HZv"
      },
      "execution_count": null,
      "outputs": []
    },
    {
      "cell_type": "markdown",
      "source": [
        "Let's check to see if the model initialized"
      ],
      "metadata": {
        "id": "ZBPcFHPkrcOE"
      }
    },
    {
      "cell_type": "code",
      "source": [
        "x = mx.sym.var('data').as_np_ndarray()\n",
        "sym = net(x)\n",
        "mx.viz.print_summary(sym)\n"
      ],
      "metadata": {
        "id": "AXwP-tgT4JvW",
        "colab": {
          "base_uri": "https://localhost:8080/"
        },
        "outputId": "c953dbc6-247b-4cd4-b11f-f8a7b51df114"
      },
      "execution_count": null,
      "outputs": [
        {
          "output_type": "stream",
          "name": "stdout",
          "text": [
            "________________________________________________________________________________________________________________________\n",
            "Layer (type)                                        Output Shape            Param #     Previous Layer                  \n",
            "========================================================================================================================\n",
            "data(null)                                                                  0                                           \n",
            "________________________________________________________________________________________________________________________\n",
            "sequential1_dense0_fwd(FullyConnected)                                      16          data                            \n",
            "________________________________________________________________________________________________________________________\n",
            "sequential1_dense0_relu_fwd(Activation)                                     0           sequential1_dense0_fwd          \n",
            "________________________________________________________________________________________________________________________\n",
            "sequential1_dense1_fwd(FullyConnected)                                      5           sequential1_dense0_relu_fwd     \n",
            "________________________________________________________________________________________________________________________\n",
            "sequential1_dense1_relu_fwd(Activation)                                     0           sequential1_dense1_fwd          \n",
            "________________________________________________________________________________________________________________________\n",
            "sequential1_dense2_fwd(FullyConnected)                                      5           sequential1_dense1_relu_fwd     \n",
            "________________________________________________________________________________________________________________________\n",
            "sequential1_dense2_relu_fwd(Activation)                                     0           sequential1_dense2_fwd          \n",
            "________________________________________________________________________________________________________________________\n",
            "sequential1_dense3_fwd(FullyConnected)                                      5           sequential1_dense2_relu_fwd     \n",
            "________________________________________________________________________________________________________________________\n",
            "sequential1_dense3_relu_fwd(Activation)                                     0           sequential1_dense3_fwd          \n",
            "________________________________________________________________________________________________________________________\n",
            "sequential1_dense4_fwd(FullyConnected)                                      5           sequential1_dense3_relu_fwd     \n",
            "________________________________________________________________________________________________________________________\n",
            "sequential1_dense4_relu_fwd(Activation)                                     0           sequential1_dense4_fwd          \n",
            "________________________________________________________________________________________________________________________\n",
            "sequential1_dense5_fwd(FullyConnected)                                      5           sequential1_dense4_relu_fwd     \n",
            "________________________________________________________________________________________________________________________\n",
            "sequential1_dense5_relu_fwd(Activation)                                     0           sequential1_dense5_fwd          \n",
            "________________________________________________________________________________________________________________________\n",
            "sequential1_dense6_fwd(FullyConnected)                                      2           sequential1_dense5_relu_fwd     \n",
            "========================================================================================================================\n",
            "Total params: 43\n",
            "________________________________________________________________________________________________________________________\n"
          ]
        }
      ]
    },
    {
      "cell_type": "markdown",
      "source": [
        "Train our neural net"
      ],
      "metadata": {
        "id": "ySYjBEmJtD_h"
      }
    },
    {
      "cell_type": "code",
      "source": [
        "#Runtime is about 5 minutes\n",
        "epochs = 2\n",
        "metric = mx.metric.Accuracy()\n",
        "inp = IRuDS\n",
        "training_accuracy, training_loss, loss_history, accuracy_history = train_network(net, inp, criterion, trainer, metric, epochs)\n",
        "print(training_accuracy, training_loss)"
      ],
      "metadata": {
        "colab": {
          "base_uri": "https://localhost:8080/"
        },
        "id": "AgUZEnWD4LVj",
        "outputId": "459efc4a-c743-4c3e-8ade-85d62d8057f0"
      },
      "execution_count": null,
      "outputs": [
        {
          "output_type": "stream",
          "name": "stdout",
          "text": [
            "Round: 4999, Accuracy: 0.7188, Loss: 1.1824622 \n",
            "Round: 9999, Accuracy: 0.7338, Loss: 0.72229755 \n",
            "Round: 14999, Accuracy: 0.7383333333333333, Loss: 1.4801979 \n",
            "Round: 19999, Accuracy: 0.74065, Loss: 1.2465432 \n",
            "Round: 24999, Accuracy: 0.74248, Loss: 0.08734032 \n",
            "Epoch: 0, Accuracy: 0.744487441588785, Loss: 0.15143743\n",
            "Round: 4999, Accuracy: 0.7676, Loss: 0.8817799 \n",
            "Round: 9999, Accuracy: 0.7638, Loss: 1.1115392 \n",
            "Round: 14999, Accuracy: 0.7624666666666666, Loss: 1.8494829 \n",
            "Round: 19999, Accuracy: 0.7606, Loss: 1.1863823 \n",
            "Round: 24999, Accuracy: 0.75944, Loss: 0.11922661 \n",
            "Epoch: 1, Accuracy: 0.7604044976635514, Loss: 0.12927693\n",
            "0.7604044976635514 0.12927693128585815\n"
          ]
        }
      ]
    },
    {
      "cell_type": "markdown",
      "source": [
        "Test our neural net"
      ],
      "metadata": {
        "id": "4ZTSB3vutHd7"
      }
    },
    {
      "cell_type": "code",
      "source": [
        "#test our network\n",
        "metric = mx.metric.Accuracy()  \n",
        "testing_loss, testing_accuracy = test_model(net, criterion, test, metric)\n",
        "\n",
        "print(\"Neural Net - the testing loss is \", str(testing_loss))\n",
        "print(\"Neural Net - the testing accuracy is \", str(testing_accuracy))\n",
        "\n"
      ],
      "metadata": {
        "id": "Ct8zERFH4T8H",
        "colab": {
          "base_uri": "https://localhost:8080/"
        },
        "outputId": "8f777777-572c-4c12-e260-09f506fb8a34"
      },
      "execution_count": null,
      "outputs": [
        {
          "output_type": "stream",
          "name": "stdout",
          "text": [
            "Neural Net - the testing loss is  0.22757162153720856\n",
            "Neural Net - the testing accuracy is  0.7621188857205528\n"
          ]
        }
      ]
    },
    {
      "cell_type": "markdown",
      "source": [
        "Confusion matrix for the Neural Netowrk"
      ],
      "metadata": {
        "id": "uHPGGFpSsP77"
      }
    },
    {
      "cell_type": "code",
      "source": [
        "y_hat = []\n",
        "y_true = []\n",
        "for i, (data, label) in enumerate(test):\n",
        "    real = npy.asarray(label, dtype=int).tolist()[0]\n",
        "    y_true.append(real)\n",
        "    pred = npy.asarray(net(data).argmax(), dtype=int).tolist()\n",
        "    y_hat.append(pred)\n",
        "\n",
        "confusion_matrix_df = pd.DataFrame(confusion_matrix(y_true, y_hat), columns=['Actual No Heart Disease (0)', 'Actual Heart Disease (1)'])\n",
        "confusion_matrix_df"
      ],
      "metadata": {
        "id": "2wkF4XX2cXyt",
        "colab": {
          "base_uri": "https://localhost:8080/",
          "height": 112
        },
        "outputId": "67f80e24-202f-4faf-d70d-7e5e9afc1d9f"
      },
      "execution_count": null,
      "outputs": [
        {
          "output_type": "execute_result",
          "data": {
            "text/plain": [
              "   Actual No Heart Disease (0)  Actual Heart Disease (1)\n",
              "0                         9183                      4494\n",
              "1                         2013                     11664"
            ],
            "text/html": [
              "\n",
              "  <div id=\"df-d6e675ff-ca6e-4302-b5c3-b4d044d9034f\">\n",
              "    <div class=\"colab-df-container\">\n",
              "      <div>\n",
              "<style scoped>\n",
              "    .dataframe tbody tr th:only-of-type {\n",
              "        vertical-align: middle;\n",
              "    }\n",
              "\n",
              "    .dataframe tbody tr th {\n",
              "        vertical-align: top;\n",
              "    }\n",
              "\n",
              "    .dataframe thead th {\n",
              "        text-align: right;\n",
              "    }\n",
              "</style>\n",
              "<table border=\"1\" class=\"dataframe\">\n",
              "  <thead>\n",
              "    <tr style=\"text-align: right;\">\n",
              "      <th></th>\n",
              "      <th>Actual No Heart Disease (0)</th>\n",
              "      <th>Actual Heart Disease (1)</th>\n",
              "    </tr>\n",
              "  </thead>\n",
              "  <tbody>\n",
              "    <tr>\n",
              "      <th>0</th>\n",
              "      <td>9183</td>\n",
              "      <td>4494</td>\n",
              "    </tr>\n",
              "    <tr>\n",
              "      <th>1</th>\n",
              "      <td>2013</td>\n",
              "      <td>11664</td>\n",
              "    </tr>\n",
              "  </tbody>\n",
              "</table>\n",
              "</div>\n",
              "      <button class=\"colab-df-convert\" onclick=\"convertToInteractive('df-d6e675ff-ca6e-4302-b5c3-b4d044d9034f')\"\n",
              "              title=\"Convert this dataframe to an interactive table.\"\n",
              "              style=\"display:none;\">\n",
              "        \n",
              "  <svg xmlns=\"http://www.w3.org/2000/svg\" height=\"24px\"viewBox=\"0 0 24 24\"\n",
              "       width=\"24px\">\n",
              "    <path d=\"M0 0h24v24H0V0z\" fill=\"none\"/>\n",
              "    <path d=\"M18.56 5.44l.94 2.06.94-2.06 2.06-.94-2.06-.94-.94-2.06-.94 2.06-2.06.94zm-11 1L8.5 8.5l.94-2.06 2.06-.94-2.06-.94L8.5 2.5l-.94 2.06-2.06.94zm10 10l.94 2.06.94-2.06 2.06-.94-2.06-.94-.94-2.06-.94 2.06-2.06.94z\"/><path d=\"M17.41 7.96l-1.37-1.37c-.4-.4-.92-.59-1.43-.59-.52 0-1.04.2-1.43.59L10.3 9.45l-7.72 7.72c-.78.78-.78 2.05 0 2.83L4 21.41c.39.39.9.59 1.41.59.51 0 1.02-.2 1.41-.59l7.78-7.78 2.81-2.81c.8-.78.8-2.07 0-2.86zM5.41 20L4 18.59l7.72-7.72 1.47 1.35L5.41 20z\"/>\n",
              "  </svg>\n",
              "      </button>\n",
              "      \n",
              "  <style>\n",
              "    .colab-df-container {\n",
              "      display:flex;\n",
              "      flex-wrap:wrap;\n",
              "      gap: 12px;\n",
              "    }\n",
              "\n",
              "    .colab-df-convert {\n",
              "      background-color: #E8F0FE;\n",
              "      border: none;\n",
              "      border-radius: 50%;\n",
              "      cursor: pointer;\n",
              "      display: none;\n",
              "      fill: #1967D2;\n",
              "      height: 32px;\n",
              "      padding: 0 0 0 0;\n",
              "      width: 32px;\n",
              "    }\n",
              "\n",
              "    .colab-df-convert:hover {\n",
              "      background-color: #E2EBFA;\n",
              "      box-shadow: 0px 1px 2px rgba(60, 64, 67, 0.3), 0px 1px 3px 1px rgba(60, 64, 67, 0.15);\n",
              "      fill: #174EA6;\n",
              "    }\n",
              "\n",
              "    [theme=dark] .colab-df-convert {\n",
              "      background-color: #3B4455;\n",
              "      fill: #D2E3FC;\n",
              "    }\n",
              "\n",
              "    [theme=dark] .colab-df-convert:hover {\n",
              "      background-color: #434B5C;\n",
              "      box-shadow: 0px 1px 3px 1px rgba(0, 0, 0, 0.15);\n",
              "      filter: drop-shadow(0px 1px 2px rgba(0, 0, 0, 0.3));\n",
              "      fill: #FFFFFF;\n",
              "    }\n",
              "  </style>\n",
              "\n",
              "      <script>\n",
              "        const buttonEl =\n",
              "          document.querySelector('#df-d6e675ff-ca6e-4302-b5c3-b4d044d9034f button.colab-df-convert');\n",
              "        buttonEl.style.display =\n",
              "          google.colab.kernel.accessAllowed ? 'block' : 'none';\n",
              "\n",
              "        async function convertToInteractive(key) {\n",
              "          const element = document.querySelector('#df-d6e675ff-ca6e-4302-b5c3-b4d044d9034f');\n",
              "          const dataTable =\n",
              "            await google.colab.kernel.invokeFunction('convertToInteractive',\n",
              "                                                     [key], {});\n",
              "          if (!dataTable) return;\n",
              "\n",
              "          const docLinkHtml = 'Like what you see? Visit the ' +\n",
              "            '<a target=\"_blank\" href=https://colab.research.google.com/notebooks/data_table.ipynb>data table notebook</a>'\n",
              "            + ' to learn more about interactive tables.';\n",
              "          element.innerHTML = '';\n",
              "          dataTable['output_type'] = 'display_data';\n",
              "          await google.colab.output.renderOutput(dataTable, element);\n",
              "          const docLink = document.createElement('div');\n",
              "          docLink.innerHTML = docLinkHtml;\n",
              "          element.appendChild(docLink);\n",
              "        }\n",
              "      </script>\n",
              "    </div>\n",
              "  </div>\n",
              "  "
            ]
          },
          "metadata": {},
          "execution_count": 97
        }
      ]
    },
    {
      "cell_type": "markdown",
      "source": [
        "We can see that we have only marginal improvements even with the nerual network. This suggests that our data itself may need relooking at. "
      ],
      "metadata": {
        "id": "BaiqAkLFroYH"
      }
    },
    {
      "cell_type": "markdown",
      "source": [
        "# Ensembles\n",
        "\n",
        "Let's try combinding our models together with a majority vote and run some accuracy tests on that"
      ],
      "metadata": {
        "id": "c1ghGmeBrjsJ"
      }
    },
    {
      "cell_type": "code",
      "source": [
        "y_pred_reg = lasso.predict(x_test_rus) # Logistic Regression LASSO\n",
        "y_pred_rand = rand_for_class_best.predict(x_test_rus) # Random Forest\n",
        "y_pred_abc = abc.predict(x_test_rus) # Adaptive Boosting\n",
        "y_pred_svm = svc.predict(x_test_rus) # Support Vector Machine\n",
        "y_pred_decTree = clf.predict(x_test_rus) # Decision Tree\n"
      ],
      "metadata": {
        "id": "xlqtZB3grpw8"
      },
      "execution_count": null,
      "outputs": []
    },
    {
      "cell_type": "markdown",
      "source": [
        "Place data in DataFrame"
      ],
      "metadata": {
        "id": "PhD_UQNcuoxB"
      }
    },
    {
      "cell_type": "code",
      "source": [
        "models_df = pd.DataFrame({'Regression': y_pred_reg,\n",
        "     'RandForest': y_pred_rand,\n",
        "     'Boosting': y_pred_abc,\n",
        "     'SVM': y_pred_svm,\n",
        "     'Neural Net': y_hat,\n",
        "     'y_true': y_test_rus \n",
        "    })\n",
        "models_df\n"
      ],
      "metadata": {
        "id": "Jqt7htQBKS68",
        "colab": {
          "base_uri": "https://localhost:8080/",
          "height": 424
        },
        "outputId": "165571cd-1571-473c-ed19-d01e9d946372"
      },
      "execution_count": null,
      "outputs": [
        {
          "output_type": "execute_result",
          "data": {
            "text/plain": [
              "       Regression  RandForest  Boosting  SVM  Neural Net  y_true\n",
              "0             1.0         1.0       0.0  1.0           1     0.0\n",
              "1             0.0         0.0       0.0  1.0           0     0.0\n",
              "2             0.0         0.0       0.0  0.0           0     0.0\n",
              "3             0.0         0.0       1.0  1.0           0     0.0\n",
              "4             0.0         0.0       0.0  0.0           0     0.0\n",
              "...           ...         ...       ...  ...         ...     ...\n",
              "27349         0.0         1.0       1.0  1.0           1     1.0\n",
              "27350         1.0         1.0       1.0  1.0           1     1.0\n",
              "27351         0.0         1.0       0.0  1.0           1     1.0\n",
              "27352         1.0         1.0       1.0  1.0           1     1.0\n",
              "27353         1.0         1.0       1.0  1.0           1     1.0\n",
              "\n",
              "[27354 rows x 6 columns]"
            ],
            "text/html": [
              "\n",
              "  <div id=\"df-fd8f4cad-84da-42af-a899-c68282ef70f9\">\n",
              "    <div class=\"colab-df-container\">\n",
              "      <div>\n",
              "<style scoped>\n",
              "    .dataframe tbody tr th:only-of-type {\n",
              "        vertical-align: middle;\n",
              "    }\n",
              "\n",
              "    .dataframe tbody tr th {\n",
              "        vertical-align: top;\n",
              "    }\n",
              "\n",
              "    .dataframe thead th {\n",
              "        text-align: right;\n",
              "    }\n",
              "</style>\n",
              "<table border=\"1\" class=\"dataframe\">\n",
              "  <thead>\n",
              "    <tr style=\"text-align: right;\">\n",
              "      <th></th>\n",
              "      <th>Regression</th>\n",
              "      <th>RandForest</th>\n",
              "      <th>Boosting</th>\n",
              "      <th>SVM</th>\n",
              "      <th>Neural Net</th>\n",
              "      <th>y_true</th>\n",
              "    </tr>\n",
              "  </thead>\n",
              "  <tbody>\n",
              "    <tr>\n",
              "      <th>0</th>\n",
              "      <td>1.0</td>\n",
              "      <td>1.0</td>\n",
              "      <td>0.0</td>\n",
              "      <td>1.0</td>\n",
              "      <td>1</td>\n",
              "      <td>0.0</td>\n",
              "    </tr>\n",
              "    <tr>\n",
              "      <th>1</th>\n",
              "      <td>0.0</td>\n",
              "      <td>0.0</td>\n",
              "      <td>0.0</td>\n",
              "      <td>1.0</td>\n",
              "      <td>0</td>\n",
              "      <td>0.0</td>\n",
              "    </tr>\n",
              "    <tr>\n",
              "      <th>2</th>\n",
              "      <td>0.0</td>\n",
              "      <td>0.0</td>\n",
              "      <td>0.0</td>\n",
              "      <td>0.0</td>\n",
              "      <td>0</td>\n",
              "      <td>0.0</td>\n",
              "    </tr>\n",
              "    <tr>\n",
              "      <th>3</th>\n",
              "      <td>0.0</td>\n",
              "      <td>0.0</td>\n",
              "      <td>1.0</td>\n",
              "      <td>1.0</td>\n",
              "      <td>0</td>\n",
              "      <td>0.0</td>\n",
              "    </tr>\n",
              "    <tr>\n",
              "      <th>4</th>\n",
              "      <td>0.0</td>\n",
              "      <td>0.0</td>\n",
              "      <td>0.0</td>\n",
              "      <td>0.0</td>\n",
              "      <td>0</td>\n",
              "      <td>0.0</td>\n",
              "    </tr>\n",
              "    <tr>\n",
              "      <th>...</th>\n",
              "      <td>...</td>\n",
              "      <td>...</td>\n",
              "      <td>...</td>\n",
              "      <td>...</td>\n",
              "      <td>...</td>\n",
              "      <td>...</td>\n",
              "    </tr>\n",
              "    <tr>\n",
              "      <th>27349</th>\n",
              "      <td>0.0</td>\n",
              "      <td>1.0</td>\n",
              "      <td>1.0</td>\n",
              "      <td>1.0</td>\n",
              "      <td>1</td>\n",
              "      <td>1.0</td>\n",
              "    </tr>\n",
              "    <tr>\n",
              "      <th>27350</th>\n",
              "      <td>1.0</td>\n",
              "      <td>1.0</td>\n",
              "      <td>1.0</td>\n",
              "      <td>1.0</td>\n",
              "      <td>1</td>\n",
              "      <td>1.0</td>\n",
              "    </tr>\n",
              "    <tr>\n",
              "      <th>27351</th>\n",
              "      <td>0.0</td>\n",
              "      <td>1.0</td>\n",
              "      <td>0.0</td>\n",
              "      <td>1.0</td>\n",
              "      <td>1</td>\n",
              "      <td>1.0</td>\n",
              "    </tr>\n",
              "    <tr>\n",
              "      <th>27352</th>\n",
              "      <td>1.0</td>\n",
              "      <td>1.0</td>\n",
              "      <td>1.0</td>\n",
              "      <td>1.0</td>\n",
              "      <td>1</td>\n",
              "      <td>1.0</td>\n",
              "    </tr>\n",
              "    <tr>\n",
              "      <th>27353</th>\n",
              "      <td>1.0</td>\n",
              "      <td>1.0</td>\n",
              "      <td>1.0</td>\n",
              "      <td>1.0</td>\n",
              "      <td>1</td>\n",
              "      <td>1.0</td>\n",
              "    </tr>\n",
              "  </tbody>\n",
              "</table>\n",
              "<p>27354 rows × 6 columns</p>\n",
              "</div>\n",
              "      <button class=\"colab-df-convert\" onclick=\"convertToInteractive('df-fd8f4cad-84da-42af-a899-c68282ef70f9')\"\n",
              "              title=\"Convert this dataframe to an interactive table.\"\n",
              "              style=\"display:none;\">\n",
              "        \n",
              "  <svg xmlns=\"http://www.w3.org/2000/svg\" height=\"24px\"viewBox=\"0 0 24 24\"\n",
              "       width=\"24px\">\n",
              "    <path d=\"M0 0h24v24H0V0z\" fill=\"none\"/>\n",
              "    <path d=\"M18.56 5.44l.94 2.06.94-2.06 2.06-.94-2.06-.94-.94-2.06-.94 2.06-2.06.94zm-11 1L8.5 8.5l.94-2.06 2.06-.94-2.06-.94L8.5 2.5l-.94 2.06-2.06.94zm10 10l.94 2.06.94-2.06 2.06-.94-2.06-.94-.94-2.06-.94 2.06-2.06.94z\"/><path d=\"M17.41 7.96l-1.37-1.37c-.4-.4-.92-.59-1.43-.59-.52 0-1.04.2-1.43.59L10.3 9.45l-7.72 7.72c-.78.78-.78 2.05 0 2.83L4 21.41c.39.39.9.59 1.41.59.51 0 1.02-.2 1.41-.59l7.78-7.78 2.81-2.81c.8-.78.8-2.07 0-2.86zM5.41 20L4 18.59l7.72-7.72 1.47 1.35L5.41 20z\"/>\n",
              "  </svg>\n",
              "      </button>\n",
              "      \n",
              "  <style>\n",
              "    .colab-df-container {\n",
              "      display:flex;\n",
              "      flex-wrap:wrap;\n",
              "      gap: 12px;\n",
              "    }\n",
              "\n",
              "    .colab-df-convert {\n",
              "      background-color: #E8F0FE;\n",
              "      border: none;\n",
              "      border-radius: 50%;\n",
              "      cursor: pointer;\n",
              "      display: none;\n",
              "      fill: #1967D2;\n",
              "      height: 32px;\n",
              "      padding: 0 0 0 0;\n",
              "      width: 32px;\n",
              "    }\n",
              "\n",
              "    .colab-df-convert:hover {\n",
              "      background-color: #E2EBFA;\n",
              "      box-shadow: 0px 1px 2px rgba(60, 64, 67, 0.3), 0px 1px 3px 1px rgba(60, 64, 67, 0.15);\n",
              "      fill: #174EA6;\n",
              "    }\n",
              "\n",
              "    [theme=dark] .colab-df-convert {\n",
              "      background-color: #3B4455;\n",
              "      fill: #D2E3FC;\n",
              "    }\n",
              "\n",
              "    [theme=dark] .colab-df-convert:hover {\n",
              "      background-color: #434B5C;\n",
              "      box-shadow: 0px 1px 3px 1px rgba(0, 0, 0, 0.15);\n",
              "      filter: drop-shadow(0px 1px 2px rgba(0, 0, 0, 0.3));\n",
              "      fill: #FFFFFF;\n",
              "    }\n",
              "  </style>\n",
              "\n",
              "      <script>\n",
              "        const buttonEl =\n",
              "          document.querySelector('#df-fd8f4cad-84da-42af-a899-c68282ef70f9 button.colab-df-convert');\n",
              "        buttonEl.style.display =\n",
              "          google.colab.kernel.accessAllowed ? 'block' : 'none';\n",
              "\n",
              "        async function convertToInteractive(key) {\n",
              "          const element = document.querySelector('#df-fd8f4cad-84da-42af-a899-c68282ef70f9');\n",
              "          const dataTable =\n",
              "            await google.colab.kernel.invokeFunction('convertToInteractive',\n",
              "                                                     [key], {});\n",
              "          if (!dataTable) return;\n",
              "\n",
              "          const docLinkHtml = 'Like what you see? Visit the ' +\n",
              "            '<a target=\"_blank\" href=https://colab.research.google.com/notebooks/data_table.ipynb>data table notebook</a>'\n",
              "            + ' to learn more about interactive tables.';\n",
              "          element.innerHTML = '';\n",
              "          dataTable['output_type'] = 'display_data';\n",
              "          await google.colab.output.renderOutput(dataTable, element);\n",
              "          const docLink = document.createElement('div');\n",
              "          docLink.innerHTML = docLinkHtml;\n",
              "          element.appendChild(docLink);\n",
              "        }\n",
              "      </script>\n",
              "    </div>\n",
              "  </div>\n",
              "  "
            ]
          },
          "metadata": {},
          "execution_count": 99
        }
      ]
    },
    {
      "cell_type": "markdown",
      "source": [
        "Perform majority vote and keep track of the voting results and relavent locations. As the decision tree reduces the overall accuracy and wanted an odd number to avoid tying, we left it out."
      ],
      "metadata": {
        "id": "P73JnHxUut-M"
      }
    },
    {
      "cell_type": "code",
      "source": [
        "correct = 0\n",
        "agree = 0\n",
        "\n",
        "five_zero_and_correct = 0\n",
        "five_zero_and_wrong = 0\n",
        "\n",
        "four_one_and_correct = 0\n",
        "four_one_and_wrong = 0\n",
        "\n",
        "three_two_and_correct = 0\n",
        "three_two_and_wrong = 0\n",
        "\n",
        "#  y_pred_decTree[i] this did the worst leave out\n",
        "\n",
        "test_len = len(y_test_rus)\n",
        "\n",
        "agreed_and_correct_loc = []\n",
        "agreed_and_wrong_loc = []\n",
        "\n",
        "y_pred_ensemble_list =[]\n",
        "\n",
        "for i in range(test_len):\n",
        "    total =  y_pred_reg[i] + y_pred_rand[i] + y_pred_abc[i] + y_pred_svm[i] + y_hat[i]\n",
        "    y_pred_ensemble = round(( y_pred_reg[i] + y_pred_rand[i] + y_pred_abc[i] + y_pred_svm[i] + y_hat[i])/5)\n",
        "    y_pred_ensemble_list.append(y_pred_ensemble)\n",
        "    # agree\n",
        "    if  (total == 5.0) | (total == 0.0):\n",
        "        agree += 1\n",
        "    #correct\n",
        "    if y_pred_ensemble == y_test_rus[i]:\n",
        "        correct +=1\n",
        "    #complete agreement \n",
        "    if (y_pred_ensemble == y_test_rus[i]) & ((total == 5.0) | (total == 0.0)):\n",
        "        five_zero_and_correct += 1\n",
        "        agreed_and_correct_loc.append(i)\n",
        "    if (y_pred_ensemble != y_test_rus[i]) & ((total == 5.0) | (total == 0.0)):\n",
        "        five_zero_and_wrong += 1\n",
        "        agreed_and_wrong_loc.append(i)\n",
        "\n",
        "    # 4 vs 1\n",
        "    if (y_pred_ensemble == y_test_rus[i]) & ((total == 4.0) | (total == 1.0)):\n",
        "        four_one_and_correct += 1\n",
        "    if (y_pred_ensemble != y_test_rus[i]) & ((total == 4.0) | (total == 1.0)):\n",
        "        four_one_and_wrong += 1\n",
        "\n",
        "    # 3 vs 2\n",
        "    if (y_pred_ensemble == y_test_rus[i]) & ((total == 3.0) | (total == 2.0)):\n",
        "        three_two_and_correct += 1\n",
        "    if (y_pred_ensemble != y_test_rus[i]) & ((total == 3.0) | (total == 2.0)):\n",
        "        three_two_and_wrong += 1\n",
        "\n",
        "\n",
        "\n",
        "print(\"Ensemble accuracy: \", correct/test_len)\n",
        "print(\"Number of agreements: \", agree)\n",
        "print(\"Agreement rate: \", agree/test_len)\n",
        "\n",
        "print(\"\\nFive against zero and correct: \", five_zero_and_correct)\n",
        "print(\"Five against zero and wrong: \", five_zero_and_wrong)\n",
        "print(\"Five against zero accuracy was: \", five_zero_and_correct/(five_zero_and_correct + five_zero_and_wrong))\n",
        "\n",
        "print(\"\\nFour against one and correct: \", four_one_and_correct)\n",
        "print(\"Four against one and wrong: \", four_one_and_wrong)\n",
        "print(\"Four against one accuracy was: \", four_one_and_correct/(four_one_and_correct + four_one_and_wrong))\n",
        "\n",
        "print(\"\\nThree against two and correct: \", three_two_and_correct)\n",
        "print(\"Three against two and wrong: \", three_two_and_wrong)\n",
        "print(\"Three against two accuracy was: \", three_two_and_correct/(three_two_and_correct + three_two_and_wrong))\n",
        "\n",
        "print(confusion_matrix(y_test_rus, y_pred_ensemble_list))\n"
      ],
      "metadata": {
        "id": "OhR0jH-pvVPy",
        "colab": {
          "base_uri": "https://localhost:8080/"
        },
        "outputId": "29a22c7e-a951-42a8-d85e-e3d948fb1350"
      },
      "execution_count": null,
      "outputs": [
        {
          "output_type": "stream",
          "name": "stdout",
          "text": [
            "Ensemble accuracy:  0.7623382320684361\n",
            "Number of agreements:  17077\n",
            "Agreement rate:  0.624296263800541\n",
            "\n",
            "Five against zero and correct:  14124\n",
            "Five against zero and wrong:  2953\n",
            "Five against zero accuracy was:  0.8270773555074076\n",
            "\n",
            "Four against one and correct:  4952\n",
            "Four against one and wrong:  2103\n",
            "Four against one accuracy was:  0.701913536498937\n",
            "\n",
            "Three against two and correct:  1777\n",
            "Three against two and wrong:  1445\n",
            "Three against two accuracy was:  0.5515207945375543\n",
            "[[ 9656  4021]\n",
            " [ 2480 11197]]\n"
          ]
        }
      ]
    },
    {
      "cell_type": "markdown",
      "source": [
        "While the accuracy for our ensemble did about the same as other models, it did potentially shed some light on why our prediction accuracies have been so low. Interestingly, the more the models agreed, the higher the accuracy of the ensemble was, leaving us at an 81% accuracy if all models were in agreement. While this improvement is welcome, it's concerning that all the models missclassified with respect to 20% of the data. This indicates there may be an underlying issue in the data. "
      ],
      "metadata": {
        "id": "d1ylEBHyvYeI"
      }
    },
    {
      "cell_type": "markdown",
      "source": [
        "# Revisiting the Data"
      ],
      "metadata": {
        "id": "nbIRosUnxOXh"
      }
    },
    {
      "cell_type": "markdown",
      "source": [
        "Here we collect the data from our ensemble deep dive analysis and group it into the \"weird\" and \"good\" data. The \"weird\" data is the data where all five models agreed and their predictions were wrong. The \"good\" data is the data where all five models agreed and predeicted heart disease correctly."
      ],
      "metadata": {
        "id": "DVwtsKBqo0m-"
      }
    },
    {
      "cell_type": "code",
      "source": [
        "\n",
        "unscaled_x_test = sc.inverse_transform(x_test_rus)"
      ],
      "metadata": {
        "id": "FAT8T0Mdc0Ez"
      },
      "execution_count": null,
      "outputs": []
    },
    {
      "cell_type": "code",
      "source": [
        "weird_data_heart_disease = []\n",
        "for i in agreed_and_wrong_loc:\n",
        "    temp = []\n",
        "    temp.append(y_test_rus[i])\n",
        "    for j in unscaled_x_test[i]:\n",
        "        temp.append(j)\n",
        "    weird_data_heart_disease.append(temp)\n",
        "\n",
        "weird_data_heart_disease_df = pd.DataFrame(weird_data_heart_disease, columns=list(heart_disease_df.columns))"
      ],
      "metadata": {
        "id": "21HuxO9yXtRq"
      },
      "execution_count": null,
      "outputs": []
    },
    {
      "cell_type": "code",
      "source": [
        "unscaled_x_test = sc.inverse_transform(x_test_rus)\n",
        "\n",
        "good_data_heart_disease = []\n",
        "for i in agreed_and_correct_loc:\n",
        "    temp = []\n",
        "    temp.append(y_test_rus[i])\n",
        "    for j in unscaled_x_test[i]:\n",
        "        temp.append(j)\n",
        "    good_data_heart_disease.append(temp)\n",
        "\n",
        "good_data_heart_disease_df = pd.DataFrame(good_data_heart_disease, columns=list(heart_disease_df.columns))"
      ],
      "metadata": {
        "id": "21JMz96TcxJl"
      },
      "execution_count": null,
      "outputs": []
    },
    {
      "cell_type": "code",
      "source": [
        "weird_data_heart_disease_df"
      ],
      "metadata": {
        "id": "uHZlNtLkZ2w5",
        "colab": {
          "base_uri": "https://localhost:8080/",
          "height": 522
        },
        "outputId": "68482ea3-f91b-40c1-b908-8a9590d935ba"
      },
      "execution_count": null,
      "outputs": [
        {
          "output_type": "execute_result",
          "data": {
            "text/plain": [
              "      HeartDisease    BMI  Smoking  AlcoholDrinking  Stroke  PhysicalHealth  \\\n",
              "0              0.0  23.49      1.0              0.0     0.0             7.0   \n",
              "1              0.0  23.78      0.0              0.0     0.0            30.0   \n",
              "2              0.0  32.98      0.0              0.0     1.0            30.0   \n",
              "3              0.0  29.53      1.0              0.0     0.0            20.0   \n",
              "4              0.0  27.44      1.0              0.0     0.0             0.0   \n",
              "...            ...    ...      ...              ...     ...             ...   \n",
              "2948           1.0  25.02      0.0              0.0     0.0             0.0   \n",
              "2949           1.0  23.63      0.0              0.0     0.0             0.0   \n",
              "2950           1.0  25.68      1.0              0.0     0.0             0.0   \n",
              "2951           1.0  22.14      0.0              0.0     0.0             0.0   \n",
              "2952           1.0  26.54      0.0              0.0     0.0             0.0   \n",
              "\n",
              "      MentalHealth  DiffWalking  Diabetic  PhysicalActivity  ...  SkinCancer  \\\n",
              "0              0.0          0.0       0.0               1.0  ...         1.0   \n",
              "1             30.0          0.0       0.0               0.0  ...         1.0   \n",
              "2             15.0          1.0       0.0               0.0  ...         0.0   \n",
              "3              0.0          1.0       0.0               0.0  ...         0.0   \n",
              "4              6.0          0.0       0.0               1.0  ...         0.0   \n",
              "...            ...          ...       ...               ...  ...         ...   \n",
              "2948          10.0          0.0       0.0               1.0  ...         0.0   \n",
              "2949           0.0          0.0       0.0               1.0  ...         0.0   \n",
              "2950           0.0          0.0       0.0               1.0  ...         0.0   \n",
              "2951           0.0          0.0       0.0               1.0  ...         0.0   \n",
              "2952           7.0          0.0       0.0               1.0  ...         0.0   \n",
              "\n",
              "      Race_American Indian/Alaskan Native  Race_Asian  Race_Black  \\\n",
              "0                                     0.0         0.0         0.0   \n",
              "1                                     0.0         0.0         0.0   \n",
              "2                                     0.0         0.0         0.0   \n",
              "3                                     0.0         0.0         0.0   \n",
              "4                                     0.0         0.0         0.0   \n",
              "...                                   ...         ...         ...   \n",
              "2948                                  0.0         0.0         0.0   \n",
              "2949                                  0.0         0.0         0.0   \n",
              "2950                                  0.0         0.0         0.0   \n",
              "2951                                  0.0         0.0         1.0   \n",
              "2952                                  0.0         0.0         0.0   \n",
              "\n",
              "      Race_Hispanic  Race_Other  Race_White  general_health_factor  \\\n",
              "0               0.0         0.0         1.0                    2.0   \n",
              "1               0.0         0.0         1.0                    0.0   \n",
              "2               0.0         0.0         1.0                    0.0   \n",
              "3               0.0         0.0         1.0                    0.0   \n",
              "4               0.0         0.0         1.0                    2.0   \n",
              "...             ...         ...         ...                    ...   \n",
              "2948            0.0         0.0         1.0                    4.0   \n",
              "2949            1.0         0.0         0.0                    4.0   \n",
              "2950            0.0         0.0         1.0                    4.0   \n",
              "2951            0.0         0.0         0.0                    2.0   \n",
              "2952            0.0         0.0         1.0                    3.0   \n",
              "\n",
              "      age_factor  sex_factor  \n",
              "0           11.0         1.0  \n",
              "1            5.0         1.0  \n",
              "2            9.0         0.0  \n",
              "3            7.0         0.0  \n",
              "4           10.0         1.0  \n",
              "...          ...         ...  \n",
              "2948         6.0         1.0  \n",
              "2949         3.0         0.0  \n",
              "2950         6.0         0.0  \n",
              "2951         5.0         1.0  \n",
              "2952         5.0         0.0  \n",
              "\n",
              "[2953 rows x 23 columns]"
            ],
            "text/html": [
              "\n",
              "  <div id=\"df-c85f98c6-2ce2-43c5-a0d0-d16cca69740a\">\n",
              "    <div class=\"colab-df-container\">\n",
              "      <div>\n",
              "<style scoped>\n",
              "    .dataframe tbody tr th:only-of-type {\n",
              "        vertical-align: middle;\n",
              "    }\n",
              "\n",
              "    .dataframe tbody tr th {\n",
              "        vertical-align: top;\n",
              "    }\n",
              "\n",
              "    .dataframe thead th {\n",
              "        text-align: right;\n",
              "    }\n",
              "</style>\n",
              "<table border=\"1\" class=\"dataframe\">\n",
              "  <thead>\n",
              "    <tr style=\"text-align: right;\">\n",
              "      <th></th>\n",
              "      <th>HeartDisease</th>\n",
              "      <th>BMI</th>\n",
              "      <th>Smoking</th>\n",
              "      <th>AlcoholDrinking</th>\n",
              "      <th>Stroke</th>\n",
              "      <th>PhysicalHealth</th>\n",
              "      <th>MentalHealth</th>\n",
              "      <th>DiffWalking</th>\n",
              "      <th>Diabetic</th>\n",
              "      <th>PhysicalActivity</th>\n",
              "      <th>...</th>\n",
              "      <th>SkinCancer</th>\n",
              "      <th>Race_American Indian/Alaskan Native</th>\n",
              "      <th>Race_Asian</th>\n",
              "      <th>Race_Black</th>\n",
              "      <th>Race_Hispanic</th>\n",
              "      <th>Race_Other</th>\n",
              "      <th>Race_White</th>\n",
              "      <th>general_health_factor</th>\n",
              "      <th>age_factor</th>\n",
              "      <th>sex_factor</th>\n",
              "    </tr>\n",
              "  </thead>\n",
              "  <tbody>\n",
              "    <tr>\n",
              "      <th>0</th>\n",
              "      <td>0.0</td>\n",
              "      <td>23.49</td>\n",
              "      <td>1.0</td>\n",
              "      <td>0.0</td>\n",
              "      <td>0.0</td>\n",
              "      <td>7.0</td>\n",
              "      <td>0.0</td>\n",
              "      <td>0.0</td>\n",
              "      <td>0.0</td>\n",
              "      <td>1.0</td>\n",
              "      <td>...</td>\n",
              "      <td>1.0</td>\n",
              "      <td>0.0</td>\n",
              "      <td>0.0</td>\n",
              "      <td>0.0</td>\n",
              "      <td>0.0</td>\n",
              "      <td>0.0</td>\n",
              "      <td>1.0</td>\n",
              "      <td>2.0</td>\n",
              "      <td>11.0</td>\n",
              "      <td>1.0</td>\n",
              "    </tr>\n",
              "    <tr>\n",
              "      <th>1</th>\n",
              "      <td>0.0</td>\n",
              "      <td>23.78</td>\n",
              "      <td>0.0</td>\n",
              "      <td>0.0</td>\n",
              "      <td>0.0</td>\n",
              "      <td>30.0</td>\n",
              "      <td>30.0</td>\n",
              "      <td>0.0</td>\n",
              "      <td>0.0</td>\n",
              "      <td>0.0</td>\n",
              "      <td>...</td>\n",
              "      <td>1.0</td>\n",
              "      <td>0.0</td>\n",
              "      <td>0.0</td>\n",
              "      <td>0.0</td>\n",
              "      <td>0.0</td>\n",
              "      <td>0.0</td>\n",
              "      <td>1.0</td>\n",
              "      <td>0.0</td>\n",
              "      <td>5.0</td>\n",
              "      <td>1.0</td>\n",
              "    </tr>\n",
              "    <tr>\n",
              "      <th>2</th>\n",
              "      <td>0.0</td>\n",
              "      <td>32.98</td>\n",
              "      <td>0.0</td>\n",
              "      <td>0.0</td>\n",
              "      <td>1.0</td>\n",
              "      <td>30.0</td>\n",
              "      <td>15.0</td>\n",
              "      <td>1.0</td>\n",
              "      <td>0.0</td>\n",
              "      <td>0.0</td>\n",
              "      <td>...</td>\n",
              "      <td>0.0</td>\n",
              "      <td>0.0</td>\n",
              "      <td>0.0</td>\n",
              "      <td>0.0</td>\n",
              "      <td>0.0</td>\n",
              "      <td>0.0</td>\n",
              "      <td>1.0</td>\n",
              "      <td>0.0</td>\n",
              "      <td>9.0</td>\n",
              "      <td>0.0</td>\n",
              "    </tr>\n",
              "    <tr>\n",
              "      <th>3</th>\n",
              "      <td>0.0</td>\n",
              "      <td>29.53</td>\n",
              "      <td>1.0</td>\n",
              "      <td>0.0</td>\n",
              "      <td>0.0</td>\n",
              "      <td>20.0</td>\n",
              "      <td>0.0</td>\n",
              "      <td>1.0</td>\n",
              "      <td>0.0</td>\n",
              "      <td>0.0</td>\n",
              "      <td>...</td>\n",
              "      <td>0.0</td>\n",
              "      <td>0.0</td>\n",
              "      <td>0.0</td>\n",
              "      <td>0.0</td>\n",
              "      <td>0.0</td>\n",
              "      <td>0.0</td>\n",
              "      <td>1.0</td>\n",
              "      <td>0.0</td>\n",
              "      <td>7.0</td>\n",
              "      <td>0.0</td>\n",
              "    </tr>\n",
              "    <tr>\n",
              "      <th>4</th>\n",
              "      <td>0.0</td>\n",
              "      <td>27.44</td>\n",
              "      <td>1.0</td>\n",
              "      <td>0.0</td>\n",
              "      <td>0.0</td>\n",
              "      <td>0.0</td>\n",
              "      <td>6.0</td>\n",
              "      <td>0.0</td>\n",
              "      <td>0.0</td>\n",
              "      <td>1.0</td>\n",
              "      <td>...</td>\n",
              "      <td>0.0</td>\n",
              "      <td>0.0</td>\n",
              "      <td>0.0</td>\n",
              "      <td>0.0</td>\n",
              "      <td>0.0</td>\n",
              "      <td>0.0</td>\n",
              "      <td>1.0</td>\n",
              "      <td>2.0</td>\n",
              "      <td>10.0</td>\n",
              "      <td>1.0</td>\n",
              "    </tr>\n",
              "    <tr>\n",
              "      <th>...</th>\n",
              "      <td>...</td>\n",
              "      <td>...</td>\n",
              "      <td>...</td>\n",
              "      <td>...</td>\n",
              "      <td>...</td>\n",
              "      <td>...</td>\n",
              "      <td>...</td>\n",
              "      <td>...</td>\n",
              "      <td>...</td>\n",
              "      <td>...</td>\n",
              "      <td>...</td>\n",
              "      <td>...</td>\n",
              "      <td>...</td>\n",
              "      <td>...</td>\n",
              "      <td>...</td>\n",
              "      <td>...</td>\n",
              "      <td>...</td>\n",
              "      <td>...</td>\n",
              "      <td>...</td>\n",
              "      <td>...</td>\n",
              "      <td>...</td>\n",
              "    </tr>\n",
              "    <tr>\n",
              "      <th>2948</th>\n",
              "      <td>1.0</td>\n",
              "      <td>25.02</td>\n",
              "      <td>0.0</td>\n",
              "      <td>0.0</td>\n",
              "      <td>0.0</td>\n",
              "      <td>0.0</td>\n",
              "      <td>10.0</td>\n",
              "      <td>0.0</td>\n",
              "      <td>0.0</td>\n",
              "      <td>1.0</td>\n",
              "      <td>...</td>\n",
              "      <td>0.0</td>\n",
              "      <td>0.0</td>\n",
              "      <td>0.0</td>\n",
              "      <td>0.0</td>\n",
              "      <td>0.0</td>\n",
              "      <td>0.0</td>\n",
              "      <td>1.0</td>\n",
              "      <td>4.0</td>\n",
              "      <td>6.0</td>\n",
              "      <td>1.0</td>\n",
              "    </tr>\n",
              "    <tr>\n",
              "      <th>2949</th>\n",
              "      <td>1.0</td>\n",
              "      <td>23.63</td>\n",
              "      <td>0.0</td>\n",
              "      <td>0.0</td>\n",
              "      <td>0.0</td>\n",
              "      <td>0.0</td>\n",
              "      <td>0.0</td>\n",
              "      <td>0.0</td>\n",
              "      <td>0.0</td>\n",
              "      <td>1.0</td>\n",
              "      <td>...</td>\n",
              "      <td>0.0</td>\n",
              "      <td>0.0</td>\n",
              "      <td>0.0</td>\n",
              "      <td>0.0</td>\n",
              "      <td>1.0</td>\n",
              "      <td>0.0</td>\n",
              "      <td>0.0</td>\n",
              "      <td>4.0</td>\n",
              "      <td>3.0</td>\n",
              "      <td>0.0</td>\n",
              "    </tr>\n",
              "    <tr>\n",
              "      <th>2950</th>\n",
              "      <td>1.0</td>\n",
              "      <td>25.68</td>\n",
              "      <td>1.0</td>\n",
              "      <td>0.0</td>\n",
              "      <td>0.0</td>\n",
              "      <td>0.0</td>\n",
              "      <td>0.0</td>\n",
              "      <td>0.0</td>\n",
              "      <td>0.0</td>\n",
              "      <td>1.0</td>\n",
              "      <td>...</td>\n",
              "      <td>0.0</td>\n",
              "      <td>0.0</td>\n",
              "      <td>0.0</td>\n",
              "      <td>0.0</td>\n",
              "      <td>0.0</td>\n",
              "      <td>0.0</td>\n",
              "      <td>1.0</td>\n",
              "      <td>4.0</td>\n",
              "      <td>6.0</td>\n",
              "      <td>0.0</td>\n",
              "    </tr>\n",
              "    <tr>\n",
              "      <th>2951</th>\n",
              "      <td>1.0</td>\n",
              "      <td>22.14</td>\n",
              "      <td>0.0</td>\n",
              "      <td>0.0</td>\n",
              "      <td>0.0</td>\n",
              "      <td>0.0</td>\n",
              "      <td>0.0</td>\n",
              "      <td>0.0</td>\n",
              "      <td>0.0</td>\n",
              "      <td>1.0</td>\n",
              "      <td>...</td>\n",
              "      <td>0.0</td>\n",
              "      <td>0.0</td>\n",
              "      <td>0.0</td>\n",
              "      <td>1.0</td>\n",
              "      <td>0.0</td>\n",
              "      <td>0.0</td>\n",
              "      <td>0.0</td>\n",
              "      <td>2.0</td>\n",
              "      <td>5.0</td>\n",
              "      <td>1.0</td>\n",
              "    </tr>\n",
              "    <tr>\n",
              "      <th>2952</th>\n",
              "      <td>1.0</td>\n",
              "      <td>26.54</td>\n",
              "      <td>0.0</td>\n",
              "      <td>0.0</td>\n",
              "      <td>0.0</td>\n",
              "      <td>0.0</td>\n",
              "      <td>7.0</td>\n",
              "      <td>0.0</td>\n",
              "      <td>0.0</td>\n",
              "      <td>1.0</td>\n",
              "      <td>...</td>\n",
              "      <td>0.0</td>\n",
              "      <td>0.0</td>\n",
              "      <td>0.0</td>\n",
              "      <td>0.0</td>\n",
              "      <td>0.0</td>\n",
              "      <td>0.0</td>\n",
              "      <td>1.0</td>\n",
              "      <td>3.0</td>\n",
              "      <td>5.0</td>\n",
              "      <td>0.0</td>\n",
              "    </tr>\n",
              "  </tbody>\n",
              "</table>\n",
              "<p>2953 rows × 23 columns</p>\n",
              "</div>\n",
              "      <button class=\"colab-df-convert\" onclick=\"convertToInteractive('df-c85f98c6-2ce2-43c5-a0d0-d16cca69740a')\"\n",
              "              title=\"Convert this dataframe to an interactive table.\"\n",
              "              style=\"display:none;\">\n",
              "        \n",
              "  <svg xmlns=\"http://www.w3.org/2000/svg\" height=\"24px\"viewBox=\"0 0 24 24\"\n",
              "       width=\"24px\">\n",
              "    <path d=\"M0 0h24v24H0V0z\" fill=\"none\"/>\n",
              "    <path d=\"M18.56 5.44l.94 2.06.94-2.06 2.06-.94-2.06-.94-.94-2.06-.94 2.06-2.06.94zm-11 1L8.5 8.5l.94-2.06 2.06-.94-2.06-.94L8.5 2.5l-.94 2.06-2.06.94zm10 10l.94 2.06.94-2.06 2.06-.94-2.06-.94-.94-2.06-.94 2.06-2.06.94z\"/><path d=\"M17.41 7.96l-1.37-1.37c-.4-.4-.92-.59-1.43-.59-.52 0-1.04.2-1.43.59L10.3 9.45l-7.72 7.72c-.78.78-.78 2.05 0 2.83L4 21.41c.39.39.9.59 1.41.59.51 0 1.02-.2 1.41-.59l7.78-7.78 2.81-2.81c.8-.78.8-2.07 0-2.86zM5.41 20L4 18.59l7.72-7.72 1.47 1.35L5.41 20z\"/>\n",
              "  </svg>\n",
              "      </button>\n",
              "      \n",
              "  <style>\n",
              "    .colab-df-container {\n",
              "      display:flex;\n",
              "      flex-wrap:wrap;\n",
              "      gap: 12px;\n",
              "    }\n",
              "\n",
              "    .colab-df-convert {\n",
              "      background-color: #E8F0FE;\n",
              "      border: none;\n",
              "      border-radius: 50%;\n",
              "      cursor: pointer;\n",
              "      display: none;\n",
              "      fill: #1967D2;\n",
              "      height: 32px;\n",
              "      padding: 0 0 0 0;\n",
              "      width: 32px;\n",
              "    }\n",
              "\n",
              "    .colab-df-convert:hover {\n",
              "      background-color: #E2EBFA;\n",
              "      box-shadow: 0px 1px 2px rgba(60, 64, 67, 0.3), 0px 1px 3px 1px rgba(60, 64, 67, 0.15);\n",
              "      fill: #174EA6;\n",
              "    }\n",
              "\n",
              "    [theme=dark] .colab-df-convert {\n",
              "      background-color: #3B4455;\n",
              "      fill: #D2E3FC;\n",
              "    }\n",
              "\n",
              "    [theme=dark] .colab-df-convert:hover {\n",
              "      background-color: #434B5C;\n",
              "      box-shadow: 0px 1px 3px 1px rgba(0, 0, 0, 0.15);\n",
              "      filter: drop-shadow(0px 1px 2px rgba(0, 0, 0, 0.3));\n",
              "      fill: #FFFFFF;\n",
              "    }\n",
              "  </style>\n",
              "\n",
              "      <script>\n",
              "        const buttonEl =\n",
              "          document.querySelector('#df-c85f98c6-2ce2-43c5-a0d0-d16cca69740a button.colab-df-convert');\n",
              "        buttonEl.style.display =\n",
              "          google.colab.kernel.accessAllowed ? 'block' : 'none';\n",
              "\n",
              "        async function convertToInteractive(key) {\n",
              "          const element = document.querySelector('#df-c85f98c6-2ce2-43c5-a0d0-d16cca69740a');\n",
              "          const dataTable =\n",
              "            await google.colab.kernel.invokeFunction('convertToInteractive',\n",
              "                                                     [key], {});\n",
              "          if (!dataTable) return;\n",
              "\n",
              "          const docLinkHtml = 'Like what you see? Visit the ' +\n",
              "            '<a target=\"_blank\" href=https://colab.research.google.com/notebooks/data_table.ipynb>data table notebook</a>'\n",
              "            + ' to learn more about interactive tables.';\n",
              "          element.innerHTML = '';\n",
              "          dataTable['output_type'] = 'display_data';\n",
              "          await google.colab.output.renderOutput(dataTable, element);\n",
              "          const docLink = document.createElement('div');\n",
              "          docLink.innerHTML = docLinkHtml;\n",
              "          element.appendChild(docLink);\n",
              "        }\n",
              "      </script>\n",
              "    </div>\n",
              "  </div>\n",
              "  "
            ]
          },
          "metadata": {},
          "execution_count": 104
        }
      ]
    },
    {
      "cell_type": "code",
      "source": [
        "good_data_heart_disease_df"
      ],
      "metadata": {
        "id": "SFZC6r6DdLqZ",
        "colab": {
          "base_uri": "https://localhost:8080/",
          "height": 522
        },
        "outputId": "285bf087-39c0-48e5-e9fe-d7775bc045b5"
      },
      "execution_count": null,
      "outputs": [
        {
          "output_type": "execute_result",
          "data": {
            "text/plain": [
              "       HeartDisease    BMI  Smoking  AlcoholDrinking  Stroke  PhysicalHealth  \\\n",
              "0               0.0  22.68      1.0              0.0     0.0             0.0   \n",
              "1               0.0  32.55      1.0              0.0     0.0             0.0   \n",
              "2               0.0  25.84      0.0              0.0     0.0             0.0   \n",
              "3               0.0  22.14      1.0              1.0     0.0             0.0   \n",
              "4               0.0  23.03      0.0              0.0     0.0             0.0   \n",
              "...             ...    ...      ...              ...     ...             ...   \n",
              "14119           1.0  24.94      1.0              0.0     1.0             0.0   \n",
              "14120           1.0  27.44      0.0              0.0     0.0            15.0   \n",
              "14121           1.0  18.36      1.0              0.0     0.0            14.0   \n",
              "14122           1.0  24.41      0.0              0.0     0.0             4.0   \n",
              "14123           1.0  25.18      1.0              0.0     0.0             0.0   \n",
              "\n",
              "       MentalHealth  DiffWalking  Diabetic  PhysicalActivity  ...  SkinCancer  \\\n",
              "0               1.0          0.0       0.0               1.0  ...         1.0   \n",
              "1               0.0          0.0       0.0               0.0  ...         0.0   \n",
              "2               0.0          0.0       0.0               1.0  ...         0.0   \n",
              "3               7.0          0.0       0.0               1.0  ...         0.0   \n",
              "4               3.0          0.0       0.0               1.0  ...         0.0   \n",
              "...             ...          ...       ...               ...  ...         ...   \n",
              "14119           0.0          1.0       0.0               1.0  ...         0.0   \n",
              "14120           0.0          1.0       0.0               0.0  ...         0.0   \n",
              "14121           0.0          1.0       0.0               1.0  ...         0.0   \n",
              "14122           2.0          0.0       0.0               1.0  ...         0.0   \n",
              "14123           0.0          0.0       0.0               1.0  ...         0.0   \n",
              "\n",
              "       Race_American Indian/Alaskan Native  Race_Asian  Race_Black  \\\n",
              "0                                      0.0         0.0         0.0   \n",
              "1                                      0.0         0.0         0.0   \n",
              "2                                      0.0         0.0         0.0   \n",
              "3                                      0.0         0.0         0.0   \n",
              "4                                      0.0         0.0         0.0   \n",
              "...                                    ...         ...         ...   \n",
              "14119                                  0.0         0.0         0.0   \n",
              "14120                                  0.0         0.0         0.0   \n",
              "14121                                  0.0         0.0         0.0   \n",
              "14122                                  0.0         0.0         0.0   \n",
              "14123                                  0.0         0.0         0.0   \n",
              "\n",
              "       Race_Hispanic  Race_Other  Race_White  general_health_factor  \\\n",
              "0                0.0         0.0         1.0                    4.0   \n",
              "1                0.0         0.0         1.0                    4.0   \n",
              "2                0.0         0.0         1.0                    3.0   \n",
              "3                0.0         0.0         1.0                    4.0   \n",
              "4                0.0         0.0         1.0                    4.0   \n",
              "...              ...         ...         ...                    ...   \n",
              "14119            0.0         0.0         1.0                    1.0   \n",
              "14120            0.0         0.0         1.0                    1.0   \n",
              "14121            0.0         0.0         1.0                    0.0   \n",
              "14122            0.0         0.0         1.0                    2.0   \n",
              "14123            0.0         0.0         1.0                    2.0   \n",
              "\n",
              "       age_factor  sex_factor  \n",
              "0             9.0         1.0  \n",
              "1             4.0         0.0  \n",
              "2             5.0         1.0  \n",
              "3             9.0         1.0  \n",
              "4             7.0         1.0  \n",
              "...           ...         ...  \n",
              "14119        10.0         1.0  \n",
              "14120         8.0         1.0  \n",
              "14121         9.0         1.0  \n",
              "14122        12.0         1.0  \n",
              "14123        11.0         0.0  \n",
              "\n",
              "[14124 rows x 23 columns]"
            ],
            "text/html": [
              "\n",
              "  <div id=\"df-d9b52bee-50e5-4570-a5c3-2dd3328ef592\">\n",
              "    <div class=\"colab-df-container\">\n",
              "      <div>\n",
              "<style scoped>\n",
              "    .dataframe tbody tr th:only-of-type {\n",
              "        vertical-align: middle;\n",
              "    }\n",
              "\n",
              "    .dataframe tbody tr th {\n",
              "        vertical-align: top;\n",
              "    }\n",
              "\n",
              "    .dataframe thead th {\n",
              "        text-align: right;\n",
              "    }\n",
              "</style>\n",
              "<table border=\"1\" class=\"dataframe\">\n",
              "  <thead>\n",
              "    <tr style=\"text-align: right;\">\n",
              "      <th></th>\n",
              "      <th>HeartDisease</th>\n",
              "      <th>BMI</th>\n",
              "      <th>Smoking</th>\n",
              "      <th>AlcoholDrinking</th>\n",
              "      <th>Stroke</th>\n",
              "      <th>PhysicalHealth</th>\n",
              "      <th>MentalHealth</th>\n",
              "      <th>DiffWalking</th>\n",
              "      <th>Diabetic</th>\n",
              "      <th>PhysicalActivity</th>\n",
              "      <th>...</th>\n",
              "      <th>SkinCancer</th>\n",
              "      <th>Race_American Indian/Alaskan Native</th>\n",
              "      <th>Race_Asian</th>\n",
              "      <th>Race_Black</th>\n",
              "      <th>Race_Hispanic</th>\n",
              "      <th>Race_Other</th>\n",
              "      <th>Race_White</th>\n",
              "      <th>general_health_factor</th>\n",
              "      <th>age_factor</th>\n",
              "      <th>sex_factor</th>\n",
              "    </tr>\n",
              "  </thead>\n",
              "  <tbody>\n",
              "    <tr>\n",
              "      <th>0</th>\n",
              "      <td>0.0</td>\n",
              "      <td>22.68</td>\n",
              "      <td>1.0</td>\n",
              "      <td>0.0</td>\n",
              "      <td>0.0</td>\n",
              "      <td>0.0</td>\n",
              "      <td>1.0</td>\n",
              "      <td>0.0</td>\n",
              "      <td>0.0</td>\n",
              "      <td>1.0</td>\n",
              "      <td>...</td>\n",
              "      <td>1.0</td>\n",
              "      <td>0.0</td>\n",
              "      <td>0.0</td>\n",
              "      <td>0.0</td>\n",
              "      <td>0.0</td>\n",
              "      <td>0.0</td>\n",
              "      <td>1.0</td>\n",
              "      <td>4.0</td>\n",
              "      <td>9.0</td>\n",
              "      <td>1.0</td>\n",
              "    </tr>\n",
              "    <tr>\n",
              "      <th>1</th>\n",
              "      <td>0.0</td>\n",
              "      <td>32.55</td>\n",
              "      <td>1.0</td>\n",
              "      <td>0.0</td>\n",
              "      <td>0.0</td>\n",
              "      <td>0.0</td>\n",
              "      <td>0.0</td>\n",
              "      <td>0.0</td>\n",
              "      <td>0.0</td>\n",
              "      <td>0.0</td>\n",
              "      <td>...</td>\n",
              "      <td>0.0</td>\n",
              "      <td>0.0</td>\n",
              "      <td>0.0</td>\n",
              "      <td>0.0</td>\n",
              "      <td>0.0</td>\n",
              "      <td>0.0</td>\n",
              "      <td>1.0</td>\n",
              "      <td>4.0</td>\n",
              "      <td>4.0</td>\n",
              "      <td>0.0</td>\n",
              "    </tr>\n",
              "    <tr>\n",
              "      <th>2</th>\n",
              "      <td>0.0</td>\n",
              "      <td>25.84</td>\n",
              "      <td>0.0</td>\n",
              "      <td>0.0</td>\n",
              "      <td>0.0</td>\n",
              "      <td>0.0</td>\n",
              "      <td>0.0</td>\n",
              "      <td>0.0</td>\n",
              "      <td>0.0</td>\n",
              "      <td>1.0</td>\n",
              "      <td>...</td>\n",
              "      <td>0.0</td>\n",
              "      <td>0.0</td>\n",
              "      <td>0.0</td>\n",
              "      <td>0.0</td>\n",
              "      <td>0.0</td>\n",
              "      <td>0.0</td>\n",
              "      <td>1.0</td>\n",
              "      <td>3.0</td>\n",
              "      <td>5.0</td>\n",
              "      <td>1.0</td>\n",
              "    </tr>\n",
              "    <tr>\n",
              "      <th>3</th>\n",
              "      <td>0.0</td>\n",
              "      <td>22.14</td>\n",
              "      <td>1.0</td>\n",
              "      <td>1.0</td>\n",
              "      <td>0.0</td>\n",
              "      <td>0.0</td>\n",
              "      <td>7.0</td>\n",
              "      <td>0.0</td>\n",
              "      <td>0.0</td>\n",
              "      <td>1.0</td>\n",
              "      <td>...</td>\n",
              "      <td>0.0</td>\n",
              "      <td>0.0</td>\n",
              "      <td>0.0</td>\n",
              "      <td>0.0</td>\n",
              "      <td>0.0</td>\n",
              "      <td>0.0</td>\n",
              "      <td>1.0</td>\n",
              "      <td>4.0</td>\n",
              "      <td>9.0</td>\n",
              "      <td>1.0</td>\n",
              "    </tr>\n",
              "    <tr>\n",
              "      <th>4</th>\n",
              "      <td>0.0</td>\n",
              "      <td>23.03</td>\n",
              "      <td>0.0</td>\n",
              "      <td>0.0</td>\n",
              "      <td>0.0</td>\n",
              "      <td>0.0</td>\n",
              "      <td>3.0</td>\n",
              "      <td>0.0</td>\n",
              "      <td>0.0</td>\n",
              "      <td>1.0</td>\n",
              "      <td>...</td>\n",
              "      <td>0.0</td>\n",
              "      <td>0.0</td>\n",
              "      <td>0.0</td>\n",
              "      <td>0.0</td>\n",
              "      <td>0.0</td>\n",
              "      <td>0.0</td>\n",
              "      <td>1.0</td>\n",
              "      <td>4.0</td>\n",
              "      <td>7.0</td>\n",
              "      <td>1.0</td>\n",
              "    </tr>\n",
              "    <tr>\n",
              "      <th>...</th>\n",
              "      <td>...</td>\n",
              "      <td>...</td>\n",
              "      <td>...</td>\n",
              "      <td>...</td>\n",
              "      <td>...</td>\n",
              "      <td>...</td>\n",
              "      <td>...</td>\n",
              "      <td>...</td>\n",
              "      <td>...</td>\n",
              "      <td>...</td>\n",
              "      <td>...</td>\n",
              "      <td>...</td>\n",
              "      <td>...</td>\n",
              "      <td>...</td>\n",
              "      <td>...</td>\n",
              "      <td>...</td>\n",
              "      <td>...</td>\n",
              "      <td>...</td>\n",
              "      <td>...</td>\n",
              "      <td>...</td>\n",
              "      <td>...</td>\n",
              "    </tr>\n",
              "    <tr>\n",
              "      <th>14119</th>\n",
              "      <td>1.0</td>\n",
              "      <td>24.94</td>\n",
              "      <td>1.0</td>\n",
              "      <td>0.0</td>\n",
              "      <td>1.0</td>\n",
              "      <td>0.0</td>\n",
              "      <td>0.0</td>\n",
              "      <td>1.0</td>\n",
              "      <td>0.0</td>\n",
              "      <td>1.0</td>\n",
              "      <td>...</td>\n",
              "      <td>0.0</td>\n",
              "      <td>0.0</td>\n",
              "      <td>0.0</td>\n",
              "      <td>0.0</td>\n",
              "      <td>0.0</td>\n",
              "      <td>0.0</td>\n",
              "      <td>1.0</td>\n",
              "      <td>1.0</td>\n",
              "      <td>10.0</td>\n",
              "      <td>1.0</td>\n",
              "    </tr>\n",
              "    <tr>\n",
              "      <th>14120</th>\n",
              "      <td>1.0</td>\n",
              "      <td>27.44</td>\n",
              "      <td>0.0</td>\n",
              "      <td>0.0</td>\n",
              "      <td>0.0</td>\n",
              "      <td>15.0</td>\n",
              "      <td>0.0</td>\n",
              "      <td>1.0</td>\n",
              "      <td>0.0</td>\n",
              "      <td>0.0</td>\n",
              "      <td>...</td>\n",
              "      <td>0.0</td>\n",
              "      <td>0.0</td>\n",
              "      <td>0.0</td>\n",
              "      <td>0.0</td>\n",
              "      <td>0.0</td>\n",
              "      <td>0.0</td>\n",
              "      <td>1.0</td>\n",
              "      <td>1.0</td>\n",
              "      <td>8.0</td>\n",
              "      <td>1.0</td>\n",
              "    </tr>\n",
              "    <tr>\n",
              "      <th>14121</th>\n",
              "      <td>1.0</td>\n",
              "      <td>18.36</td>\n",
              "      <td>1.0</td>\n",
              "      <td>0.0</td>\n",
              "      <td>0.0</td>\n",
              "      <td>14.0</td>\n",
              "      <td>0.0</td>\n",
              "      <td>1.0</td>\n",
              "      <td>0.0</td>\n",
              "      <td>1.0</td>\n",
              "      <td>...</td>\n",
              "      <td>0.0</td>\n",
              "      <td>0.0</td>\n",
              "      <td>0.0</td>\n",
              "      <td>0.0</td>\n",
              "      <td>0.0</td>\n",
              "      <td>0.0</td>\n",
              "      <td>1.0</td>\n",
              "      <td>0.0</td>\n",
              "      <td>9.0</td>\n",
              "      <td>1.0</td>\n",
              "    </tr>\n",
              "    <tr>\n",
              "      <th>14122</th>\n",
              "      <td>1.0</td>\n",
              "      <td>24.41</td>\n",
              "      <td>0.0</td>\n",
              "      <td>0.0</td>\n",
              "      <td>0.0</td>\n",
              "      <td>4.0</td>\n",
              "      <td>2.0</td>\n",
              "      <td>0.0</td>\n",
              "      <td>0.0</td>\n",
              "      <td>1.0</td>\n",
              "      <td>...</td>\n",
              "      <td>0.0</td>\n",
              "      <td>0.0</td>\n",
              "      <td>0.0</td>\n",
              "      <td>0.0</td>\n",
              "      <td>0.0</td>\n",
              "      <td>0.0</td>\n",
              "      <td>1.0</td>\n",
              "      <td>2.0</td>\n",
              "      <td>12.0</td>\n",
              "      <td>1.0</td>\n",
              "    </tr>\n",
              "    <tr>\n",
              "      <th>14123</th>\n",
              "      <td>1.0</td>\n",
              "      <td>25.18</td>\n",
              "      <td>1.0</td>\n",
              "      <td>0.0</td>\n",
              "      <td>0.0</td>\n",
              "      <td>0.0</td>\n",
              "      <td>0.0</td>\n",
              "      <td>0.0</td>\n",
              "      <td>0.0</td>\n",
              "      <td>1.0</td>\n",
              "      <td>...</td>\n",
              "      <td>0.0</td>\n",
              "      <td>0.0</td>\n",
              "      <td>0.0</td>\n",
              "      <td>0.0</td>\n",
              "      <td>0.0</td>\n",
              "      <td>0.0</td>\n",
              "      <td>1.0</td>\n",
              "      <td>2.0</td>\n",
              "      <td>11.0</td>\n",
              "      <td>0.0</td>\n",
              "    </tr>\n",
              "  </tbody>\n",
              "</table>\n",
              "<p>14124 rows × 23 columns</p>\n",
              "</div>\n",
              "      <button class=\"colab-df-convert\" onclick=\"convertToInteractive('df-d9b52bee-50e5-4570-a5c3-2dd3328ef592')\"\n",
              "              title=\"Convert this dataframe to an interactive table.\"\n",
              "              style=\"display:none;\">\n",
              "        \n",
              "  <svg xmlns=\"http://www.w3.org/2000/svg\" height=\"24px\"viewBox=\"0 0 24 24\"\n",
              "       width=\"24px\">\n",
              "    <path d=\"M0 0h24v24H0V0z\" fill=\"none\"/>\n",
              "    <path d=\"M18.56 5.44l.94 2.06.94-2.06 2.06-.94-2.06-.94-.94-2.06-.94 2.06-2.06.94zm-11 1L8.5 8.5l.94-2.06 2.06-.94-2.06-.94L8.5 2.5l-.94 2.06-2.06.94zm10 10l.94 2.06.94-2.06 2.06-.94-2.06-.94-.94-2.06-.94 2.06-2.06.94z\"/><path d=\"M17.41 7.96l-1.37-1.37c-.4-.4-.92-.59-1.43-.59-.52 0-1.04.2-1.43.59L10.3 9.45l-7.72 7.72c-.78.78-.78 2.05 0 2.83L4 21.41c.39.39.9.59 1.41.59.51 0 1.02-.2 1.41-.59l7.78-7.78 2.81-2.81c.8-.78.8-2.07 0-2.86zM5.41 20L4 18.59l7.72-7.72 1.47 1.35L5.41 20z\"/>\n",
              "  </svg>\n",
              "      </button>\n",
              "      \n",
              "  <style>\n",
              "    .colab-df-container {\n",
              "      display:flex;\n",
              "      flex-wrap:wrap;\n",
              "      gap: 12px;\n",
              "    }\n",
              "\n",
              "    .colab-df-convert {\n",
              "      background-color: #E8F0FE;\n",
              "      border: none;\n",
              "      border-radius: 50%;\n",
              "      cursor: pointer;\n",
              "      display: none;\n",
              "      fill: #1967D2;\n",
              "      height: 32px;\n",
              "      padding: 0 0 0 0;\n",
              "      width: 32px;\n",
              "    }\n",
              "\n",
              "    .colab-df-convert:hover {\n",
              "      background-color: #E2EBFA;\n",
              "      box-shadow: 0px 1px 2px rgba(60, 64, 67, 0.3), 0px 1px 3px 1px rgba(60, 64, 67, 0.15);\n",
              "      fill: #174EA6;\n",
              "    }\n",
              "\n",
              "    [theme=dark] .colab-df-convert {\n",
              "      background-color: #3B4455;\n",
              "      fill: #D2E3FC;\n",
              "    }\n",
              "\n",
              "    [theme=dark] .colab-df-convert:hover {\n",
              "      background-color: #434B5C;\n",
              "      box-shadow: 0px 1px 3px 1px rgba(0, 0, 0, 0.15);\n",
              "      filter: drop-shadow(0px 1px 2px rgba(0, 0, 0, 0.3));\n",
              "      fill: #FFFFFF;\n",
              "    }\n",
              "  </style>\n",
              "\n",
              "      <script>\n",
              "        const buttonEl =\n",
              "          document.querySelector('#df-d9b52bee-50e5-4570-a5c3-2dd3328ef592 button.colab-df-convert');\n",
              "        buttonEl.style.display =\n",
              "          google.colab.kernel.accessAllowed ? 'block' : 'none';\n",
              "\n",
              "        async function convertToInteractive(key) {\n",
              "          const element = document.querySelector('#df-d9b52bee-50e5-4570-a5c3-2dd3328ef592');\n",
              "          const dataTable =\n",
              "            await google.colab.kernel.invokeFunction('convertToInteractive',\n",
              "                                                     [key], {});\n",
              "          if (!dataTable) return;\n",
              "\n",
              "          const docLinkHtml = 'Like what you see? Visit the ' +\n",
              "            '<a target=\"_blank\" href=https://colab.research.google.com/notebooks/data_table.ipynb>data table notebook</a>'\n",
              "            + ' to learn more about interactive tables.';\n",
              "          element.innerHTML = '';\n",
              "          dataTable['output_type'] = 'display_data';\n",
              "          await google.colab.output.renderOutput(dataTable, element);\n",
              "          const docLink = document.createElement('div');\n",
              "          docLink.innerHTML = docLinkHtml;\n",
              "          element.appendChild(docLink);\n",
              "        }\n",
              "      </script>\n",
              "    </div>\n",
              "  </div>\n",
              "  "
            ]
          },
          "metadata": {},
          "execution_count": 105
        }
      ]
    },
    {
      "cell_type": "markdown",
      "source": [
        "We now scale the data back for our \"good\" and \"weird\" data analysis."
      ],
      "metadata": {
        "id": "83tO58qZpk42"
      }
    },
    {
      "cell_type": "code",
      "source": [
        "weird_data_scaled = []\n",
        "weird_labels = []\n",
        "for i in agreed_and_wrong_loc:\n",
        "    temp = []\n",
        "    weird_labels.append(y_test_rus[i])\n",
        "    for j in x_test_rus[i]:\n",
        "        temp.append(j)\n",
        "    weird_data_scaled.append(temp)\n",
        "\n",
        "# Conduct 50/50 train-test split with random_state = 42\n",
        "x_train_weird, x_test_weird, y_train_weird, y_test_weird = train_test_split(weird_data_scaled, weird_labels, train_size = 0.5, test_size = 0.5, random_state = 42)\n"
      ],
      "metadata": {
        "id": "NT8wHLpluJ3T"
      },
      "execution_count": null,
      "outputs": []
    },
    {
      "cell_type": "code",
      "source": [
        "good_data_scaled = []\n",
        "good_labels = []\n",
        "for i in agreed_and_correct_loc:\n",
        "    temp = []\n",
        "    good_labels.append(y_test_rus[i])\n",
        "    for j in x_test_rus[i]:\n",
        "        temp.append(j)\n",
        "    good_data_scaled.append(temp)\n",
        "\n",
        "# Conduct 50/50 train-test split with random_state = 42\n",
        "x_train_good, x_test_good, y_train_good, y_test_good = train_test_split(good_data_scaled, good_labels, train_size = 0.5, test_size = 0.5, random_state = 42)"
      ],
      "metadata": {
        "id": "tX4Ypr_Ovghs"
      },
      "execution_count": null,
      "outputs": []
    },
    {
      "cell_type": "markdown",
      "source": [
        "We chose LASSO regression so that we can find the features that are the source of the problem in our data. "
      ],
      "metadata": {
        "id": "x2Q1bZRhqepH"
      }
    },
    {
      "cell_type": "code",
      "source": [
        "# Let's add LASSO/L1 penalty to our logictic regression model\n",
        "lasso_revisited_weird = LogisticRegression(penalty='elasticnet', solver='saga', C=0.006, l1_ratio=1)\n",
        "lasso_revisited_weird.fit(x_train_weird, y_train_weird)\n",
        "y_pred_weird = lasso_revisited_weird.predict(x_test_weird)\n",
        "print(\"accuracy score for Lasso/L1 Logistic Regression for weird data: \", accuracy_score(y_test_weird, y_pred_weird))\n",
        "print(confusion_matrix(y_test_weird, y_pred_weird))\n",
        "plot_roc_curve(x_test_weird, y_test_weird, lasso_revisited_weird, \"Lasso/L1 Logistic Regression Revisited \")\n",
        "\n",
        "data_weird = []\n",
        "\n",
        "for i in range(len(features.columns)):\n",
        "  print(features.columns[i], lasso_revisited_weird.coef_[0][i])\n",
        "  data_weird.append((features.columns[i], round(lasso_revisited_weird.coef_[0][i], 4)))\n",
        "print(data_weird)"
      ],
      "metadata": {
        "id": "WzOaS4qKdlt_",
        "colab": {
          "base_uri": "https://localhost:8080/",
          "height": 807
        },
        "outputId": "5ad94b11-e716-417e-8840-7b42510cb567"
      },
      "execution_count": null,
      "outputs": [
        {
          "output_type": "stream",
          "name": "stdout",
          "text": [
            "accuracy score for Lasso/L1 Logistic Regression for weird data:  0.9025050778605281\n",
            "[[1002    4]\n",
            " [ 140  331]]\n"
          ]
        },
        {
          "output_type": "display_data",
          "data": {
            "text/plain": [
              "<Figure size 432x288 with 1 Axes>"
            ],
            "image/png": "[encoded data removed]"
          },
          "metadata": {
            "needs_background": "light"
          }
        },
        {
          "output_type": "stream",
          "name": "stdout",
          "text": [
            "BMI 0.0\n",
            "Smoking 0.0\n",
            "AlcoholDrinking 0.0\n",
            "Stroke 0.0\n",
            "PhysicalHealth 0.0\n",
            "MentalHealth 0.0\n",
            "DiffWalking -0.13168141818492637\n",
            "Diabetic 0.0\n",
            "PhysicalActivity 0.0\n",
            "SleepTime 0.0\n",
            "Asthma 0.0\n",
            "KidneyDisease 0.0\n",
            "SkinCancer 0.0\n",
            "Race_American Indian/Alaskan Native 0.0\n",
            "Race_Asian 0.0\n",
            "Race_Black 0.0\n",
            "Race_Hispanic 0.0\n",
            "Race_Other 0.0\n",
            "Race_White 0.0\n",
            "general_health_factor 0.9063438018897204\n",
            "age_factor -0.6653442415821813\n",
            "sex_factor 0.0\n",
            "[('BMI', 0.0), ('Smoking', 0.0), ('AlcoholDrinking', 0.0), ('Stroke', 0.0), ('PhysicalHealth', 0.0), ('MentalHealth', 0.0), ('DiffWalking', -0.1317), ('Diabetic', 0.0), ('PhysicalActivity', 0.0), ('SleepTime', 0.0), ('Asthma', 0.0), ('KidneyDisease', 0.0), ('SkinCancer', 0.0), ('Race_American Indian/Alaskan Native', 0.0), ('Race_Asian', 0.0), ('Race_Black', 0.0), ('Race_Hispanic', 0.0), ('Race_Other', 0.0), ('Race_White', 0.0), ('general_health_factor', 0.9063), ('age_factor', -0.6653), ('sex_factor', 0.0)]\n"
          ]
        },
        {
          "output_type": "display_data",
          "data": {
            "text/plain": [
              "<Figure size 432x288 with 0 Axes>"
            ]
          },
          "metadata": {}
        }
      ]
    },
    {
      "cell_type": "markdown",
      "source": [
        "If we let C=1, we can attain an accuracy score of 99%. We chose to find a C value that can keep a relatively high accuracy score with as few features as possible. We found that with only the three features: DiffWalking, general_health_factor and age_factor we explained for 93% of the data."
      ],
      "metadata": {
        "id": "28nreAwpq2bp"
      }
    },
    {
      "cell_type": "code",
      "source": [
        "# Let's add LASSO/L1 penalty to our logictic regression model\n",
        "lasso_revisited_good = LogisticRegression(penalty='elasticnet', solver='saga', C=0.0009, l1_ratio=1)\n",
        "lasso_revisited_good.fit(x_train_good, y_train_good)\n",
        "y_pred_good = lasso_revisited_good.predict(x_test_good)\n",
        "print(\"accuracy score for Lasso/L1 Logistic Regression: \", accuracy_score(y_test_good, y_pred_good))\n",
        "print(confusion_matrix(y_test_good, y_pred_good))\n",
        "plot_roc_curve(x_test_good, y_test_good, lasso_revisited_good, \"Lasso/L1 Logistic Regression Revisited\")\n",
        "\n",
        "\n",
        "data_good = []\n",
        "for i in range(len(features.columns)):\n",
        "  print(features.columns[i], lasso_revisited_good.coef_[0][i])\n",
        "  data_good.append((features.columns[i], round(lasso_revisited_good.coef_[0][i], 4)))\n",
        "print(data_good)"
      ],
      "metadata": {
        "id": "jYG-_N-0vxNf",
        "colab": {
          "base_uri": "https://localhost:8080/",
          "height": 807
        },
        "outputId": "9bd4f295-ef30-41ac-a9ba-a502d9fa9221"
      },
      "execution_count": null,
      "outputs": [
        {
          "output_type": "stream",
          "name": "stdout",
          "text": [
            "accuracy score for Lasso/L1 Logistic Regression:  0.9657320872274143\n",
            "[[3125  195]\n",
            " [  47 3695]]\n"
          ]
        },
        {
          "output_type": "display_data",
          "data": {
            "text/plain": [
              "<Figure size 432x288 with 1 Axes>"
            ],
            "image/png": "[encoded data removed]"
          },
          "metadata": {
            "needs_background": "light"
          }
        },
        {
          "output_type": "stream",
          "name": "stdout",
          "text": [
            "BMI 0.0\n",
            "Smoking 0.0\n",
            "AlcoholDrinking 0.0\n",
            "Stroke 4.974738494385039e-06\n",
            "PhysicalHealth 0.0\n",
            "MentalHealth 0.0\n",
            "DiffWalking 0.0\n",
            "Diabetic 0.0\n",
            "PhysicalActivity 0.0\n",
            "SleepTime 0.0\n",
            "Asthma 0.0\n",
            "KidneyDisease 0.0\n",
            "SkinCancer 0.0\n",
            "Race_American Indian/Alaskan Native 0.0\n",
            "Race_Asian 0.0\n",
            "Race_Black 0.0\n",
            "Race_Hispanic 0.0\n",
            "Race_Other 0.0\n",
            "Race_White 0.0\n",
            "general_health_factor -0.7363750141878743\n",
            "age_factor 0.6914290954221826\n",
            "sex_factor 0.0\n",
            "[('BMI', 0.0), ('Smoking', 0.0), ('AlcoholDrinking', 0.0), ('Stroke', 0.0), ('PhysicalHealth', 0.0), ('MentalHealth', 0.0), ('DiffWalking', 0.0), ('Diabetic', 0.0), ('PhysicalActivity', 0.0), ('SleepTime', 0.0), ('Asthma', 0.0), ('KidneyDisease', 0.0), ('SkinCancer', 0.0), ('Race_American Indian/Alaskan Native', 0.0), ('Race_Asian', 0.0), ('Race_Black', 0.0), ('Race_Hispanic', 0.0), ('Race_Other', 0.0), ('Race_White', 0.0), ('general_health_factor', -0.7364), ('age_factor', 0.6914), ('sex_factor', 0.0)]\n"
          ]
        },
        {
          "output_type": "display_data",
          "data": {
            "text/plain": [
              "<Figure size 432x288 with 0 Axes>"
            ]
          },
          "metadata": {}
        }
      ]
    },
    {
      "cell_type": "markdown",
      "source": [
        "Similarly to the weird data, for the good data, setting a C=1 also produces a 99% accuracy. That said, we still attained a 96% accuracy with just Stroke, general_health_factor and age_factor."
      ],
      "metadata": {
        "id": "pmlrfX-rrpoe"
      }
    },
    {
      "cell_type": "code",
      "source": [
        "for i in data_good:\n",
        "  if i[1] != 0:\n",
        "    print(i)\n",
        "\n",
        "print(\"\\n\")\n",
        "for j in data_weird:\n",
        "  if j[1] != 0:\n",
        "    print(j)"
      ],
      "metadata": {
        "id": "oR8qhgOvwn9k",
        "colab": {
          "base_uri": "https://localhost:8080/"
        },
        "outputId": "e0b56170-ac65-4831-9749-5eb60e7db899"
      },
      "execution_count": null,
      "outputs": [
        {
          "output_type": "stream",
          "name": "stdout",
          "text": [
            "('general_health_factor', -0.7364)\n",
            "('age_factor', 0.6914)\n",
            "\n",
            "\n",
            "('DiffWalking', -0.1317)\n",
            "('general_health_factor', 0.9063)\n",
            "('age_factor', -0.6653)\n"
          ]
        }
      ]
    },
    {
      "cell_type": "markdown",
      "source": [
        "Upon further investigation of the values, we see that the two most significant features in both the good and wierd data are general_health_factor and age_factor. If we look at the coefficiants of each, we see they are highly negatively correlated thus makeing it impossible with just our data to capture the neuance between these two groups. "
      ],
      "metadata": {
        "id": "w-ibOCrZsE8o"
      }
    },
    {
      "cell_type": "markdown",
      "source": [
        "# Summary \n"
      ],
      "metadata": {
        "id": "wzZj-EYQxLWz"
      }
    },
    {
      "cell_type": "markdown",
      "source": [
        "We started with a health data set that had already gone through some pre-screening and cleanup. The original datset encompassing the BFRSS survey results contained a whopping 278 columns, while our starting dataset contained merely 18 features (eventually became 22 features after some EDA and encoding). Generally, a reduced number of key features is precisely our goal. After all, a key question we are trying to answer through our analysis is 'What are the minimal key features that best predict whether an individual has heart disease?'. We proceeded to run several models (unsupervised first ands then supervised) to reach our eventul goal of discovering these minimal key features and to train a model to best predict heart disease based on these features. One thing to note is that we recognized that our data is imbalanced and accounted for the imbalance by using resampling methods. For singular models, we discovered that our Unregularized Logistic Regression model performed the best (based on accuracy and AUROC scores). To dive deeper into the cause of our accuracy scores maxing out below 80%, we trained and implemented an Ensemble Classifier and took a closer look at the data points that were misclassified by all 5 of the models partaking in the ensemble. We discovered that the data is contradictory primarily on two features, general health factor and age factor. There could be two explanations for this phenomenon. First, survey answers were innacurate. Although it dooes not sound realistic for people to provide the wrong age, it is very likely that people misdiagnosed there level of general health. Second, there most likely are other key features that were excluded from either our initial dataset or from the initial VFRSS survey. These additional key features would help our models better classify heart disease beyond relying on the two more obvious features. "
      ],
      "metadata": {
        "id": "K0Is8qYNcgQb"
      }
    },
    {
      "cell_type": "markdown",
      "source": [
        "#Next Steps"
      ],
      "metadata": {
        "id": "AhgrMvHMit_d"
      }
    },
    {
      "cell_type": "markdown",
      "source": [
        "Based on our discoveries and analysis, we believe the next step is to revisit the original dataset from the BFRSS survey results and include all original 278 features in our analysis. There are likely some key features of predicting heart disease that our models missed. Although the number of features is quite large, techniques that we have already implemented (i.e. PCA) will help reduce multi-colinearity and thus the number of features). If our model accuracies improve, then we have our minal key features for predicting heart disease. If accuracies do not noticeably improve, then we must question whether the original BFRSS survey had sufficient questions."
      ],
      "metadata": {
        "id": "TQmDG3PEiwe8"
      }
    }
  ]
}